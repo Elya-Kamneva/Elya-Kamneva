{
 "cells": [
  {
   "cell_type": "code",
   "execution_count": 3,
   "id": "068afa68",
   "metadata": {},
   "outputs": [
    {
     "data": {
      "text/plain": [
       "{'Carlsen': 2842,\n",
       " 'Caruana': 2822,\n",
       " 'Mamediyarov': 2801,\n",
       " 'Ding': 2797,\n",
       " 'Giri': 2780}"
      ]
     },
     "execution_count": 3,
     "metadata": {},
     "output_type": "execute_result"
    }
   ],
   "source": [
    "#синтаксис создания словаря, ключи уникальны, значения нет\n",
    "players = { \n",
    "    'Carlsen': 2842,\n",
    "    'Caruana': 2822,\n",
    "    'Mamediyarov': 2801,\n",
    "    'Ding': 2797,\n",
    "    'Giri': 2780\n",
    "}\n",
    "players"
   ]
  },
  {
   "cell_type": "code",
   "execution_count": 4,
   "id": "6a6a611c",
   "metadata": {},
   "outputs": [
    {
     "name": "stdout",
     "output_type": "stream",
     "text": [
      "Top1 is 2842\n"
     ]
    },
    {
     "data": {
      "text/plain": [
       "2842"
      ]
     },
     "execution_count": 4,
     "metadata": {},
     "output_type": "execute_result"
    }
   ],
   "source": [
    "top1 = players ['Carlsen']        #используя индекс, можно найти пару значению по ключу\n",
    "print(f'Top1 is {top1}')\n",
    "\n",
    "players.get('Carlsen')"
   ]
  },
  {
   "cell_type": "code",
   "execution_count": 5,
   "id": "7244ff94",
   "metadata": {},
   "outputs": [
    {
     "data": {
      "text/plain": [
       "{'Carlsen': 2842,\n",
       " 'Caruana': 2822,\n",
       " 'Mamediyarov': 2801,\n",
       " 'Ding': 2797,\n",
       " 'Giri': 2780,\n",
       " 'So': 2780}"
      ]
     },
     "execution_count": 5,
     "metadata": {},
     "output_type": "execute_result"
    }
   ],
   "source": [
    "players['So'] = 2780              #создание в словаре нового значения\n",
    "players"
   ]
  },
  {
   "cell_type": "code",
   "execution_count": 6,
   "id": "9b9a9206",
   "metadata": {},
   "outputs": [
    {
     "data": {
      "text/plain": [
       "{'Carlsen': 2842,\n",
       " 'Caruana': 2822,\n",
       " 'Mamediyarov': 2801,\n",
       " 'Ding': 2797,\n",
       " 'Giri': 2780,\n",
       " 'So': 2781}"
      ]
     },
     "execution_count": 6,
     "metadata": {},
     "output_type": "execute_result"
    }
   ],
   "source": [
    "players['So'] = 2781              #можем переназначить значение для ключа\n",
    "players"
   ]
  },
  {
   "cell_type": "code",
   "execution_count": 7,
   "id": "864f1c68",
   "metadata": {},
   "outputs": [
    {
     "data": {
      "text/plain": [
       "{'Carlsen': 2842,\n",
       " 'Caruana': 2822,\n",
       " 'Mamediyarov': 2801,\n",
       " 'Ding': 2797,\n",
       " 'Giri': 2780}"
      ]
     },
     "execution_count": 7,
     "metadata": {},
     "output_type": "execute_result"
    }
   ],
   "source": [
    "del players['So']                 #удалить ключ из словаря вместе со значением\n",
    "players"
   ]
  },
  {
   "cell_type": "code",
   "execution_count": 8,
   "id": "379fd229",
   "metadata": {},
   "outputs": [
    {
     "name": "stdout",
     "output_type": "stream",
     "text": [
      "<class 'dict_keys'>\n",
      "dict_keys(['Carlsen', 'Caruana', 'Mamediyarov', 'Ding', 'Giri'])\n"
     ]
    }
   ],
   "source": [
    "keys = players.keys()             #просмотреть все ключи словаря\n",
    "print(type(keys))                 #особый тип данных для списка ключей dict_keys\n",
    "print(keys)"
   ]
  },
  {
   "cell_type": "code",
   "execution_count": 9,
   "id": "cfaf70c5",
   "metadata": {},
   "outputs": [
    {
     "name": "stdout",
     "output_type": "stream",
     "text": [
      "<class 'list'>\n",
      "['Carlsen', 'Caruana', 'Mamediyarov', 'Ding', 'Giri']\n"
     ]
    }
   ],
   "source": [
    "l = list(players.keys())          #можно присвоить новый тип данных списку ключей чтобы было удобнее с ним работать\n",
    "print(type(l))\n",
    "print(l)"
   ]
  },
  {
   "cell_type": "code",
   "execution_count": 10,
   "id": "4d07db68",
   "metadata": {},
   "outputs": [
    {
     "data": {
      "text/plain": [
       "['Carlsen', 'Caruana', 'Ding', 'Giri', 'Mamediyarov']"
      ]
     },
     "execution_count": 10,
     "metadata": {},
     "output_type": "execute_result"
    }
   ],
   "source": [
    "sorted(players.keys())            #сразу меняет тип на list при сортировке"
   ]
  },
  {
   "cell_type": "code",
   "execution_count": 11,
   "id": "44885a08",
   "metadata": {
    "scrolled": true
   },
   "outputs": [
    {
     "name": "stdout",
     "output_type": "stream",
     "text": [
      "True\n",
      "True\n"
     ]
    }
   ],
   "source": [
    "print('Carlsen' in players)       #проверяем наличие ключа в словаре\n",
    "print('Kramnik' not in players)   #проверяем что ключа в словаре нет"
   ]
  },
  {
   "cell_type": "code",
   "execution_count": 12,
   "id": "63032cb4",
   "metadata": {},
   "outputs": [
    {
     "name": "stdout",
     "output_type": "stream",
     "text": [
      "<class 'dict_values'>\n",
      "dict_values([2842, 2822, 2801, 2797, 2780])\n",
      "<class 'list'>\n",
      "[2842, 2822, 2801, 2797, 2780]\n"
     ]
    },
    {
     "data": {
      "text/plain": [
       "[2780, 2797, 2801, 2822, 2842]"
      ]
     },
     "execution_count": 12,
     "metadata": {},
     "output_type": "execute_result"
    }
   ],
   "source": [
    "vals = players.values()           #выводим список значений словаря с помощью .values\n",
    "print(type(vals))                 \n",
    "print(vals)\n",
    "\n",
    "vals = list(players.values())    #меняем тип данных на list\n",
    "print(type(vals))\n",
    "print(vals)\n",
    "\n",
    "sorted(players.values())         #сортировка так же меняет тип данных на list"
   ]
  },
  {
   "cell_type": "code",
   "execution_count": 13,
   "id": "4bf69dd7",
   "metadata": {},
   "outputs": [
    {
     "name": "stdout",
     "output_type": "stream",
     "text": [
      "{'Carlsen': 2842, 'Caruana': 2822, 'Mamediyarov': 2801, 'Ding': 2797, 'Giri': 2780}\n"
     ]
    }
   ],
   "source": [
    "players_copy = players.copy()    #можем создавать копию словаря\n",
    "print(players_copy)"
   ]
  },
  {
   "cell_type": "code",
   "execution_count": 19,
   "id": "4abeb22a",
   "metadata": {},
   "outputs": [
    {
     "name": "stdout",
     "output_type": "stream",
     "text": [
      "Carlsen 2842\n",
      "Caruana 2822\n",
      "Mamediyarov 2801\n",
      "Karjakin None\n"
     ]
    }
   ],
   "source": [
    "#цикл по словарю на будущее\n",
    "for k, v in players.items():\n",
    "    print(k,  v)"
   ]
  },
  {
   "cell_type": "code",
   "execution_count": 15,
   "id": "94b1c33a",
   "metadata": {},
   "outputs": [
    {
     "name": "stdout",
     "output_type": "stream",
     "text": [
      "{'Carlsen': 2842, 'Caruana': 2822, 'Mamediyarov': 2801, 'Ding': 2797}\n",
      "('Ding', 2797)\n",
      "{'Carlsen': 2842, 'Caruana': 2822, 'Mamediyarov': 2801}\n"
     ]
    }
   ],
   "source": [
    "players.pop('Giri')               #можем удалить по ключу с помощью .pop\n",
    "print(players)\n",
    "\n",
    "print(players.popitem())          #вывести удаленное значение\n",
    "print(players)"
   ]
  },
  {
   "cell_type": "code",
   "execution_count": 16,
   "id": "737399ea",
   "metadata": {},
   "outputs": [
    {
     "data": {
      "text/plain": [
       "3"
      ]
     },
     "execution_count": 16,
     "metadata": {},
     "output_type": "execute_result"
    }
   ],
   "source": [
    "len(players)                      #количество элементов в словаре"
   ]
  },
  {
   "cell_type": "code",
   "execution_count": 17,
   "id": "33e80317",
   "metadata": {},
   "outputs": [
    {
     "data": {
      "text/plain": [
       "{'Carlsen': 2842, 'Caruana': 2822, 'Mamediyarov': 2801, 'Karjakin': None}"
      ]
     },
     "execution_count": 17,
     "metadata": {},
     "output_type": "execute_result"
    }
   ],
   "source": [
    "players.setdefault('Karjakin')   #добавляет ключ, а в качестве значения приписывает none\n",
    "players"
   ]
  },
  {
   "cell_type": "code",
   "execution_count": null,
   "id": "10012089",
   "metadata": {},
   "outputs": [],
   "source": []
  }
 ],
 "metadata": {
  "kernelspec": {
   "display_name": "Python 3 (ipykernel)",
   "language": "python",
   "name": "python3"
  },
  "language_info": {
   "codemirror_mode": {
    "name": "ipython",
    "version": 3
   },
   "file_extension": ".py",
   "mimetype": "text/x-python",
   "name": "python",
   "nbconvert_exporter": "python",
   "pygments_lexer": "ipython3",
   "version": "3.9.12"
  }
 },
 "nbformat": 4,
 "nbformat_minor": 5
}
