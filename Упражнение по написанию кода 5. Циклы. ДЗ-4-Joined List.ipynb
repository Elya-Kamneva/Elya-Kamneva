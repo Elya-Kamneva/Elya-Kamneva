{
 "cells": [
  {
   "cell_type": "code",
   "execution_count": 1,
   "id": "0986c682",
   "metadata": {},
   "outputs": [],
   "source": [
    "#На вход подаются два списка чисел длины N.\n",
    "#\n",
    "#Задача: взять из первого списка все нечётные числа, из второго чётные и объединить их в новом списке с названием joined_list.\n",
    "#\n",
    "#Примечание: можно сделать двумя циклами for, можно одним, можно с помощью list comprehensions."
   ]
  },
  {
   "cell_type": "code",
   "execution_count": 16,
   "id": "70750835",
   "metadata": {},
   "outputs": [
    {
     "name": "stdout",
     "output_type": "stream",
     "text": [
      "[1, 3, 5, 7, 9, 12, 14, 16, 18]\n"
     ]
    }
   ],
   "source": [
    "first_lst = [1,2,3,4,5,6,7,8,9]            #убрать строку перед импортом в udemi\n",
    "second_lst = [9,12,11,13,14,15,16,17,18]   #убрать строку перед импортом в udemi\n",
    "\n",
    "joined_list =[]\n",
    "for i in first_lst:\n",
    "    if i%2==0:\n",
    "        continue\n",
    "    else:\n",
    "        joined_list.append(i)\n",
    "for n in second_lst:\n",
    "    if n%2==0:\n",
    "        joined_list.append(n)\n",
    "    else:\n",
    "        continue\n",
    "print(joined_list)\n",
    "        "
   ]
  },
  {
   "cell_type": "code",
   "execution_count": 5,
   "id": "4357d21b",
   "metadata": {},
   "outputs": [
    {
     "name": "stdout",
     "output_type": "stream",
     "text": [
      "[1, 3, 5, 7, 9, 10, 12, 14, 16, 18]\n"
     ]
    }
   ],
   "source": [
    "first_lst = [1,2,3,4,5,6,7,8,9]                #убрать строку перед импортом в udemi\n",
    "second_lst = [10,11,12,13,14,15,16,17,18,19]   #убрать строку перед импортом в udemi\n",
    "\n",
    "joined_list =[]\n",
    "first_lst =[joined_list.append(i) for i in first_lst if i%2!=0]\n",
    "second_lst =[joined_list.append(n) for n in second_lst if n%2==0]\n",
    "print(joined_list)"
   ]
  },
  {
   "cell_type": "code",
   "execution_count": null,
   "id": "ec766a72",
   "metadata": {},
   "outputs": [],
   "source": [
    "#решение учителя\n",
    "first_list = [1,2,3,4,5,6]\n",
    "second_list = [11,12,13,14,15]\n",
    "\n",
    "joined_list=[]\n",
    "for x in first_list:\n",
    "    if x%2!=0:\n",
    "        joined_list.append(x)\n",
    "        \n",
    "for x in first_list:\n",
    "    if x%2==0:\n",
    "        joined_list.append(x)\n",
    "print(f'Merged list: {joined_list}')\n",
    "\n",
    "#or\n",
    "first_list = [1,2,3,4,5,6]\n",
    "second_list = [11,12,13,14,15]\n",
    "\n",
    "odds = [x for x in first_list if x%2!=0]\n",
    "evens = [x for x in second_list if x%2==0]\n",
    "joined_list = adds + evens\n",
    "print(f'Merged list: {joined_list}')"
   ]
  }
 ],
 "metadata": {
  "kernelspec": {
   "display_name": "Python 3 (ipykernel)",
   "language": "python",
   "name": "python3"
  },
  "language_info": {
   "codemirror_mode": {
    "name": "ipython",
    "version": 3
   },
   "file_extension": ".py",
   "mimetype": "text/x-python",
   "name": "python",
   "nbconvert_exporter": "python",
   "pygments_lexer": "ipython3",
   "version": "3.9.12"
  }
 },
 "nbformat": 4,
 "nbformat_minor": 5
}
