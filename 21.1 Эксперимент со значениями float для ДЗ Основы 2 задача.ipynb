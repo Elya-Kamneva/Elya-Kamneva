{
 "cells": [
  {
   "cell_type": "code",
   "execution_count": null,
   "id": "199e7517",
   "metadata": {},
   "outputs": [
    {
     "name": "stdout",
     "output_type": "stream",
     "text": [
      "Измерим расстояние между точками \"A\" и \"В\" на плоскости\n"
     ]
    }
   ],
   "source": [
    "#Запросить у пользователя координаты x и y двух точек на плоскости\n",
    "#Задача: Посчитать расстояние между заданными точками и вывести результат на консоль с точностью до трёх знаков после запятой (плавающей точки)\n",
    "print('Измерим расстояние между точками \"A\" и \"В\" на плоскости')\n",
    "\n",
    "xa_input = input('Координата x для точки \"A\": ')                       #Вводим значение для x координаты точки А\n",
    "xa = float(xa_input)                                                   #Переводим введенное значение в число\n",
    "\n",
    "ya_input = input('Координата y для точки \"A\": ')                       #Вводим значение для у координаты точки А\n",
    "ya = float(ya_input)                                                   #Переводим введенное значение в число\n",
    "\n",
    "print(\"{}{}{}{}{}\".format('Координаты точки A: [',xa,', ',ya,']'))     #Выводим полученные значения\n",
    "\n",
    "\n",
    "\n",
    "\n",
    "xb_input = input('Координата x для точки \"B\": ')                       #Вводим значение для x координаты точки В\n",
    "xb = float(xb_input)                                                   #Переводим введенное значение в число\n",
    "\n",
    "yb_input = input('Координата y для точки \"B\": ')                       #Вводим значение для у координаты точки В\n",
    "yb = float(yb_input)                                                   #Переводим введенное значение в число\n",
    "\n",
    "print(\"{}{}{}{}{}\".format('Координаты точки B: [',xb,', ',yb,']'))     #Выводим полученные значения\n",
    "\n",
    "import math                                                            #Импортируем библиотеку с математикой\n",
    "AB = math.sqrt((xb-xa)**2 + (yb-ya)**2)                                #Пишем формулу для расчета расстояния\n",
    "print (\"{} {}\".format('Расстояние между точками \"А\" и \"В\" равно:',AB)) #Выводим результат"
   ]
  },
  {
   "cell_type": "code",
   "execution_count": null,
   "id": "9100a5a4",
   "metadata": {},
   "outputs": [],
   "source": []
  }
 ],
 "metadata": {
  "kernelspec": {
   "display_name": "Python 3 (ipykernel)",
   "language": "python",
   "name": "python3"
  },
  "language_info": {
   "codemirror_mode": {
    "name": "ipython",
    "version": 3
   },
   "file_extension": ".py",
   "mimetype": "text/x-python",
   "name": "python",
   "nbconvert_exporter": "python",
   "pygments_lexer": "ipython3",
   "version": "3.9.12"
  }
 },
 "nbformat": 4,
 "nbformat_minor": 5
}
