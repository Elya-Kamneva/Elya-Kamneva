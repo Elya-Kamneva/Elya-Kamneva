{
 "cells": [
  {
   "cell_type": "code",
   "execution_count": 2,
   "id": "0da9a5b6",
   "metadata": {},
   "outputs": [],
   "source": [
    "pwd\n",
    "#Показывает адрес папки\\дирректории где сидят файлы Jupiter\n",
    "#работает только в Jupiter/ Для других использовать команды\n",
    "#import os\n",
    "#dirpath = os.getcwd()"
   ]
  },
  {
   "cell_type": "code",
   "execution_count": 26,
   "id": "41f6ac50",
   "metadata": {},
   "outputs": [
    {
     "name": "stdout",
     "output_type": "stream",
     "text": [
      "Overwriting sample.txt\n"
     ]
    }
   ],
   "source": [
    "%%writefile sample.txt\n",
    "Name|Phone\n",
    "John;1234\n",
    "Bob;5678\n",
    "Alice;9876"
   ]
  },
  {
   "cell_type": "code",
   "execution_count": null,
   "id": "02093962",
   "metadata": {},
   "outputs": [],
   "source": [
    "#создает файл в дирректории, работает только в Jupiter\n",
    "#для создания в других редакторах использовать:\n",
    "#open('file_name', 'w') as file:\n",
    "#  File.write('data')"
   ]
  },
  {
   "cell_type": "code",
   "execution_count": 14,
   "id": "7233fce2",
   "metadata": {
    "scrolled": false
   },
   "outputs": [
    {
     "data": {
      "text/plain": [
       "<_io.TextIOWrapper name='sample.txt' mode='r' encoding='cp1251'>"
      ]
     },
     "execution_count": 14,
     "metadata": {},
     "output_type": "execute_result"
    }
   ],
   "source": [
    "file=open('sample.txt')\n",
    "file"
   ]
  },
  {
   "cell_type": "code",
   "execution_count": 15,
   "id": "fb90eb26",
   "metadata": {},
   "outputs": [
    {
     "name": "stdout",
     "output_type": "stream",
     "text": [
      "<class 'str'>\n",
      "Name|Phone\n",
      "John;1234\n",
      "Bob;5678\n",
      "Alice;9876\n",
      "\n"
     ]
    },
    {
     "data": {
      "text/plain": [
       "0"
      ]
     },
     "execution_count": 15,
     "metadata": {},
     "output_type": "execute_result"
    }
   ],
   "source": [
    "data=file.read()\n",
    "print(type(data))\n",
    "print(data)\n",
    "file.seek(0) #возвращает курсор на нулевой байт "
   ]
  },
  {
   "cell_type": "code",
   "execution_count": 16,
   "id": "433726e6",
   "metadata": {},
   "outputs": [
    {
     "name": "stdout",
     "output_type": "stream",
     "text": [
      "<class 'list'>\n",
      "['Name|Phone\\n', 'John;1234\\n', 'Bob;5678\\n', 'Alice;9876\\n']\n",
      "4\n"
     ]
    }
   ],
   "source": [
    "lines = file.readlines() #меняет файл со str на list/Мы видим строки отдельно\n",
    "print(type(lines))\n",
    "print(lines)\n",
    "print(len(lines))        #выводит количество строк"
   ]
  },
  {
   "cell_type": "code",
   "execution_count": 17,
   "id": "38892793",
   "metadata": {},
   "outputs": [],
   "source": [
    "sample_file=open(r'C:\\Users\\Asus\\test.txt')\n",
    "\n",
    "#можем открыть файл из любой дирректории"
   ]
  },
  {
   "cell_type": "code",
   "execution_count": 18,
   "id": "45550fa2",
   "metadata": {},
   "outputs": [],
   "source": [
    "file.close()\n",
    "sample_file.close()"
   ]
  },
  {
   "cell_type": "code",
   "execution_count": 19,
   "id": "534d623f",
   "metadata": {},
   "outputs": [
    {
     "name": "stdout",
     "output_type": "stream",
     "text": [
      "True\n",
      "True\n"
     ]
    }
   ],
   "source": [
    "print(file.closed)\n",
    "print(sample_file.closed)"
   ]
  },
  {
   "cell_type": "code",
   "execution_count": 20,
   "id": "7c61063c",
   "metadata": {},
   "outputs": [],
   "source": [
    "with open('sample.txt') as sample_file:\n",
    "    sample_data=sample_file.read()"
   ]
  },
  {
   "cell_type": "code",
   "execution_count": 21,
   "id": "da7db395",
   "metadata": {},
   "outputs": [
    {
     "name": "stdout",
     "output_type": "stream",
     "text": [
      "Name|Phone\n",
      "John;1234\n",
      "Bob;5678\n",
      "Alice;9876\n",
      "\n"
     ]
    }
   ],
   "source": [
    "print(sample_data)"
   ]
  },
  {
   "cell_type": "code",
   "execution_count": 22,
   "id": "e7961cb1",
   "metadata": {},
   "outputs": [],
   "source": [
    "#mode 'r'  режим только для чтения. Не можем записывать данные. Только для существующих файлов\n",
    "#mode 'w'  режим только для записи. Перезаписывает данные в файле. Не можем читать. Может создать новый файл с выбранным именем\n",
    "#mode 'a'  режим добавления. Добавляет информацию в конец. Не можем читать файл. Только для существующих файлов\n",
    "#mode 'r+' режим чтения и записи. Можем прочитать и перезаписать данные в файле. Только для существующих файлов\n",
    "#mode 'w+' режим чтения и записи. Можем прочитать и перезаписать данные в файле. Может создать новый файл."
   ]
  },
  {
   "cell_type": "code",
   "execution_count": 23,
   "id": "0a18da08",
   "metadata": {},
   "outputs": [],
   "source": [
    "with open('sample.txt', mode='r') as sample_file:    #так можно открыть файл в нужном моде\n",
    "    data=sample_file.read()"
   ]
  },
  {
   "cell_type": "code",
   "execution_count": 27,
   "id": "0ff41389",
   "metadata": {},
   "outputs": [
    {
     "name": "stdout",
     "output_type": "stream",
     "text": [
      "Name|Phone\n",
      "John;1234\n",
      "Bob;5678\n",
      "Alice;9876\n",
      "Eric;7639\n"
     ]
    }
   ],
   "source": [
    "with open('sample.txt', mode='a') as sample_file:    #записываем данные в файл в конец с помощью mode='a'\n",
    "    data=sample_file.write('Eric;7639')\n",
    "    \n",
    "with open('sample.txt', mode='r') as sample_file:    \n",
    "    print(sample_file.read())"
   ]
  },
  {
   "cell_type": "code",
   "execution_count": 36,
   "id": "251b8137",
   "metadata": {
    "scrolled": true
   },
   "outputs": [
    {
     "name": "stdout",
     "output_type": "stream",
     "text": [
      "\n",
      "Toub; 1111John;1234\n",
      "Bob;5678\n",
      "Alice;9876\n",
      "Eric;7639\n",
      "Toub; 5627\n",
      "Toub; 5627\n",
      "Toub; 5627\n",
      "Toub; 1111\n",
      "Toub; 2222\n"
     ]
    }
   ],
   "source": [
    "with open('sample.txt', mode='r+') as sample_file:     #как записать и прочитать файл - mode='r+'\n",
    "    sample_file.seek(0,2)                              #(0,2) с конца файла перемещается курсор\n",
    "    sample_file.write('\\nToub; 2222')\n",
    "    sample_file.seek(0)\n",
    "    print(sample_file.read())"
   ]
  },
  {
   "cell_type": "code",
   "execution_count": 37,
   "id": "3b269eea",
   "metadata": {},
   "outputs": [
    {
     "name": "stdout",
     "output_type": "stream",
     "text": [
      "abra-abra-abra-cadabra\n"
     ]
    }
   ],
   "source": [
    "with open('abracadabra.txt', mode='w+') as spell_file: #mode='w+' позволяет создавать новый файл если его не существует и позволяет прочитать и перезаписать информацию.\n",
    "    spell_file.write('abra-abra-abra-cadabra')\n",
    "    spell_file.seek(0)\n",
    "    print(spell_file.read())"
   ]
  },
  {
   "cell_type": "code",
   "execution_count": null,
   "id": "e2121db7",
   "metadata": {},
   "outputs": [],
   "source": []
  }
 ],
 "metadata": {
  "kernelspec": {
   "display_name": "Python 3 (ipykernel)",
   "language": "python",
   "name": "python3"
  },
  "language_info": {
   "codemirror_mode": {
    "name": "ipython",
    "version": 3
   },
   "file_extension": ".py",
   "mimetype": "text/x-python",
   "name": "python",
   "nbconvert_exporter": "python",
   "pygments_lexer": "ipython3",
   "version": "3.9.12"
  }
 },
 "nbformat": 4,
 "nbformat_minor": 5
}
