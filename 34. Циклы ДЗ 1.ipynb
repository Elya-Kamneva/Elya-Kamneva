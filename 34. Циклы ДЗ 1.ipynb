{
 "cells": [
  {
   "cell_type": "code",
   "execution_count": 1,
   "id": "2b8ee785",
   "metadata": {},
   "outputs": [],
   "source": [
    "#1. Вывести лесенкой символ звёздочки по кол-ву строк, заданных пользователем:\n",
    "#запросить ввод у пользователя кол-ва строк, вывести звёздочки лесенкой.\n",
    "#\n",
    "#- Например, пользователь ввёл число 2. Тогда выводим:\n",
    "#*\n",
    "#**\n",
    "#\n",
    "#- Например, пользователь ввёл число 4. Тогда выводим:\n",
    "#*\n",
    "#\n",
    "#**\n",
    "#\n",
    "#***\n",
    "#\n",
    "#****\n",
    "#\n",
    "#и так далее, смысл должен быть ясен.\n",
    "#\n",
    "#Примечание: символ можно умножать на число, получая строку с дублированным символом\n",
    "#(но решить можно и без этого)"
   ]
  },
  {
   "cell_type": "code",
   "execution_count": 7,
   "id": "944a0ccc",
   "metadata": {},
   "outputs": [
    {
     "name": "stdout",
     "output_type": "stream",
     "text": [
      "Введите кол-во звездочек: 10\n",
      "*\n",
      " \n",
      "**\n",
      " \n",
      "***\n",
      " \n",
      "****\n",
      " \n",
      "*****\n",
      " \n",
      "******\n",
      " \n",
      "*******\n",
      " \n",
      "********\n",
      " \n",
      "*********\n",
      " \n",
      "**********\n",
      " \n"
     ]
    }
   ],
   "source": [
    "val = int(input('Введите кол-во звездочек: '))\n",
    "\n",
    "s = 1\n",
    "while s <= val:\n",
    "    print('*'*s)\n",
    "    print(' ')\n",
    "    s+=1"
   ]
  },
  {
   "cell_type": "code",
   "execution_count": 19,
   "id": "77eb18d7",
   "metadata": {},
   "outputs": [
    {
     "name": "stdout",
     "output_type": "stream",
     "text": [
      "Введите количество строк: 10\n",
      "*\n",
      "**\n",
      "***\n",
      "****\n",
      "*****\n",
      "******\n",
      "*******\n",
      "********\n",
      "*********\n",
      "**********\n"
     ]
    }
   ],
   "source": [
    "rows = int(input('Введите количество строк: '))           #решение учителя\n",
    "\n",
    "for x in range(rows):\n",
    "    print('*'*(x+1))"
   ]
  },
  {
   "cell_type": "code",
   "execution_count": null,
   "id": "1a6ebc27",
   "metadata": {},
   "outputs": [],
   "source": []
  }
 ],
 "metadata": {
  "kernelspec": {
   "display_name": "Python 3 (ipykernel)",
   "language": "python",
   "name": "python3"
  },
  "language_info": {
   "codemirror_mode": {
    "name": "ipython",
    "version": 3
   },
   "file_extension": ".py",
   "mimetype": "text/x-python",
   "name": "python",
   "nbconvert_exporter": "python",
   "pygments_lexer": "ipython3",
   "version": "3.9.12"
  }
 },
 "nbformat": 4,
 "nbformat_minor": 5
}
