{
 "cells": [
  {
   "cell_type": "code",
   "execution_count": 1,
   "id": "18bff804",
   "metadata": {},
   "outputs": [],
   "source": [
    "#Дан список карт. Например, такой:\n",
    "#\n",
    "#current_hand = [2, 3, 4, 10, 'Q', 5]\n",
    "#\n",
    "#В общем и целом, список может содержать следующие значения: 2, 3, 4, 5, 6, 7, 8, 9, 10, 'J', 'Q', 'K', 'A'.\n",
    "#\n",
    "#У каждой карты есть свой \"вес\":\n",
    "#\n",
    "#2, 3, 4, 5, 6 весят +1\n",
    "#7, 8, 9 весят 0\n",
    "#10, 'J', 'Q', 'K', 'A' весят -1\n",
    "#Задача: имея список карт (например, см. current_hand выше), посчитать их общий \"вес\".\n",
    "#\n",
    "#Примечание:  это уже задачка посложнее. Для красивого решения подумайте как вам может помочь здесь словарь.\n",
    "#\n",
    "#Примеры входных данных и ожидаемых результатов:\n",
    "#\n",
    "#current_hand = [2, 3, 4, 10, 'Q', 5] # общий вес = 2\n",
    "#current_hand = ['A', 3, 4, 10, 'J', 4] # общий вес = 0\n",
    "#current_hand = [2, 7, 4, 9, 3, 5] # общий вес = 4\n",
    "#Вычисленный общий вес карт записать в переменную с именем cards_sum"
   ]
  },
  {
   "cell_type": "code",
   "execution_count": 8,
   "id": "af79c946",
   "metadata": {},
   "outputs": [
    {
     "name": "stdout",
     "output_type": "stream",
     "text": [
      "Итоговый вес карт: 2\n"
     ]
    }
   ],
   "source": [
    "current_hand = [2, 3, 4, 10, 'Q', 5]\n",
    "\n",
    "\n",
    "weight_1 = [10, 'J', 'Q', 'K', 'A']\n",
    "weight1 = [2, 3, 4, 5, 6]\n",
    "weight0 = [7, 8, 9]\n",
    "cards_sum = 0\n",
    "\n",
    "for c in current_hand:\n",
    "    if c in weight_1:\n",
    "        cards_sum -=1\n",
    "    elif c in weight1:\n",
    "        cards_sum +=1\n",
    "    elif c in weight0:\n",
    "        cards_sum +=0\n",
    "    else:\n",
    "        print(f'Недопустимое имя карты')\n",
    "        cards_sum = 0\n",
    "        break\n",
    "        \n",
    "print(f'Итоговый вес карт: {cards_sum}')"
   ]
  },
  {
   "cell_type": "code",
   "execution_count": 14,
   "id": "aaa2b568",
   "metadata": {},
   "outputs": [
    {
     "name": "stdout",
     "output_type": "stream",
     "text": [
      "Итоговый вес карт: 2\n"
     ]
    }
   ],
   "source": [
    "#решение ChatGPT\n",
    "current_hand = [2, 3, 4, 10, 'Q', 5]        # пример списка карт\n",
    "\n",
    "cards_values = {2: 1, 3: 1, 4: 1, 5: 1, 6: 1, 7: 0, 8: 0, 9: 0, 10: -1, 'J': -1, 'Q': -1, 'K': -1, 'A': -1}\n",
    "\n",
    "cards_sum = sum(cards_values[card] for card in current_hand) \n",
    "print(f'Итоговый вес карт: {cards_sum}')    # вывод общего веса карт"
   ]
  },
  {
   "cell_type": "code",
   "execution_count": null,
   "id": "f04b542e",
   "metadata": {},
   "outputs": [],
   "source": [
    "#решение учителя\n",
    "current_hand = [2, 3, 4, 10, 'Q', 5]\n",
    "\n",
    "cards ={2: 1, 3: 1, 4: 1, 5: 1, 6: 1, 7: 0, 8: 0, 9: 0, 10: -1, 'J': -1, 'Q': -1, 'K': -1, 'A': -1}\n",
    "\n",
    "cards_sum=sum([cards[x] for x in current_hand])\n",
    "print(cards_sum)"
   ]
  }
 ],
 "metadata": {
  "kernelspec": {
   "display_name": "Python 3 (ipykernel)",
   "language": "python",
   "name": "python3"
  },
  "language_info": {
   "codemirror_mode": {
    "name": "ipython",
    "version": 3
   },
   "file_extension": ".py",
   "mimetype": "text/x-python",
   "name": "python",
   "nbconvert_exporter": "python",
   "pygments_lexer": "ipython3",
   "version": "3.9.12"
  }
 },
 "nbformat": 4,
 "nbformat_minor": 5
}
