{
 "cells": [
  {
   "cell_type": "code",
   "execution_count": 1,
   "id": "c6ba8a39-70e1-4575-81c5-326a0e4568d0",
   "metadata": {},
   "outputs": [
    {
     "name": "stdout",
     "output_type": "stream",
     "text": [
      "My name is Elina\n"
     ]
    }
   ],
   "source": [
    "print('My name is {}'.format('Elina'))                  #вставлем плейсхолдер чтобы быстрее форматировать строку"
   ]
  },
  {
   "cell_type": "code",
   "execution_count": 2,
   "id": "830f3485-c7bd-4606-bb96-0894b5b809ac",
   "metadata": {},
   "outputs": [
    {
     "name": "stdout",
     "output_type": "stream",
     "text": [
      "My name is Elina\n"
     ]
    }
   ],
   "source": [
    "my_name='Elina'                                         #можно задать переменную\n",
    "print('My name is {}'.format(my_name))"
   ]
  },
  {
   "cell_type": "code",
   "execution_count": 3,
   "id": "85e57a7b-007a-426c-b031-6317857c2e20",
   "metadata": {},
   "outputs": [
    {
     "name": "stdout",
     "output_type": "stream",
     "text": [
      "My name is Elina and I am 25\n"
     ]
    }
   ],
   "source": [
    "print('My name is {} and I am {}'.format(my_name, 25))"
   ]
  },
  {
   "cell_type": "code",
   "execution_count": 4,
   "id": "d23a66a3-9427-4a10-840b-56a5c2a63399",
   "metadata": {},
   "outputs": [
    {
     "name": "stdout",
     "output_type": "stream",
     "text": [
      "My name is Elina and I am 25\n",
      "My name is 25 and I am Elina\n"
     ]
    }
   ],
   "source": [
    "print('My name is {0} and I am {1}'.format(my_name, 25)) #можно пронумеровать плейсхолдеры, чтобы указать порядок\n",
    "print('My name is {1} and I am {0}'.format(my_name, 25))"
   ]
  },
  {
   "cell_type": "code",
   "execution_count": 5,
   "id": "b7b26c13-3f48-4226-acce-00f05b2a7106",
   "metadata": {},
   "outputs": [
    {
     "name": "stdout",
     "output_type": "stream",
     "text": [
      "Pi equals 3.142\n",
      "Pi equals  3.14\n"
     ]
    }
   ],
   "source": [
    "pi=3.1415\n",
    "pi\n",
    "print('Pi equals {pi:1.3f}'.format(pi=pi))\n",
    "#{pi:1.2f} \n",
    "  #pi - переменная\n",
    "  #: - после него пишем форматирование\n",
    "  #1 - это дополняем пробелами (зависит от количества символов в самой переменной) или регулирует общую длину вывода\n",
    "  #.3 - количество значащих разрядов (кол-во знаков после запятой)\n",
    "  #f - тип числа Float (число с плавающей точкой)\n",
    "print('Pi equals {pi:5.2f}'.format(pi=pi)) #появится пробел, т.к. символов в переменной после форматирования 4, и добавляется пробел до 5 символов"
   ]
  },
  {
   "cell_type": "code",
   "execution_count": 6,
   "id": "644be433-273f-4760-8919-143ea6aa0258",
   "metadata": {},
   "outputs": [
    {
     "name": "stdout",
     "output_type": "stream",
     "text": [
      "Me name is Elina and I am 25\n",
      "Pi equals 3.142\n"
     ]
    }
   ],
   "source": [
    "name=\"Elina\"      #Интерполяция - сокращенный способ форматирования\n",
    "age=25\n",
    "print(f\"Me name is {name} and I am {age}\")\n",
    "print(f'Pi equals {pi:5.3f}')"
   ]
  }
 ],
 "metadata": {
  "kernelspec": {
   "display_name": "Python 3 (ipykernel)",
   "language": "python",
   "name": "python3"
  },
  "language_info": {
   "codemirror_mode": {
    "name": "ipython",
    "version": 3
   },
   "file_extension": ".py",
   "mimetype": "text/x-python",
   "name": "python",
   "nbconvert_exporter": "python",
   "pygments_lexer": "ipython3",
   "version": "3.11.7"
  }
 },
 "nbformat": 4,
 "nbformat_minor": 5
}
