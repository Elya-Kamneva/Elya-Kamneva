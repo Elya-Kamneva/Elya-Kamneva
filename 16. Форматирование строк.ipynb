{
 "cells": [
  {
   "cell_type": "code",
   "execution_count": 2,
   "id": "79474a4d",
   "metadata": {},
   "outputs": [
    {
     "name": "stdout",
     "output_type": "stream",
     "text": [
      "My name is Elina\n"
     ]
    }
   ],
   "source": [
    "print('My name is {}'.format('Elina'))                  #вставлем плейсхолдер чтобы быстрее форматировать строку"
   ]
  },
  {
   "cell_type": "code",
   "execution_count": 18,
   "id": "fa94c699",
   "metadata": {},
   "outputs": [
    {
     "name": "stdout",
     "output_type": "stream",
     "text": [
      "My name is Elina\n"
     ]
    }
   ],
   "source": [
    "my_name='Elina'                                         #можно задать переменную\n",
    "print('My name is {}'.format(my_name))"
   ]
  },
  {
   "cell_type": "code",
   "execution_count": 23,
   "id": "77bfbcf0",
   "metadata": {},
   "outputs": [
    {
     "name": "stdout",
     "output_type": "stream",
     "text": [
      "My name is Elina and I am 25\n"
     ]
    }
   ],
   "source": [
    "print('My name is {} and I am {}'.format(my_name, 25))"
   ]
  },
  {
   "cell_type": "code",
   "execution_count": 24,
   "id": "850ebbe0",
   "metadata": {},
   "outputs": [
    {
     "name": "stdout",
     "output_type": "stream",
     "text": [
      "My name is Elina and I am 25\n",
      "My name is 25 and I am Elina\n"
     ]
    }
   ],
   "source": [
    "print('My name is {0} and I am {1}'.format(my_name, 25)) #можно пронумеровать плейсхолдеры, чтобы указать порядок\n",
    "print('My name is {1} and I am {0}'.format(my_name, 25))"
   ]
  },
  {
   "cell_type": "code",
   "execution_count": 17,
   "id": "99596bcc",
   "metadata": {},
   "outputs": [
    {
     "name": "stdout",
     "output_type": "stream",
     "text": [
      "Pi equals 3.142\n",
      "Pi equals  3.14\n"
     ]
    }
   ],
   "source": [
    "pi=3.1415\n",
    "pi\n",
    "print('Pi equals {pi:1.3f}'.format(pi=pi))\n",
    "#{pi:1.2f} \n",
    "  #pi - переменная\n",
    "  #: - после него пишем форматирование\n",
    "  #1 - это дополняем пробелами (зависит от количества символов в самой переменной) или регулирует общую длину вывода\n",
    "  #.3 - количество значащих разрядов (кол-во знаков после запятой)\n",
    "  #f - тип числа Float (число с плавающей точкой)\n",
    "print('Pi equals {pi:5.2f}'.format(pi=pi)) #появится пробел, т.к. символов в переменной после форматирования 4, и добавляется пробел до 5 символов"
   ]
  },
  {
   "cell_type": "code",
   "execution_count": 28,
   "id": "b8086674",
   "metadata": {},
   "outputs": [
    {
     "name": "stdout",
     "output_type": "stream",
     "text": [
      "Me name is Elina and I am 25\n",
      "Pi equals 3.142\n"
     ]
    }
   ],
   "source": [
    "name=\"Elina\"      #Интерполяция - сокращенный способ форматирования\n",
    "age=25\n",
    "print(f\"Me name is {name} and I am {age}\")\n",
    "print(f'Pi equals {pi:5.3f}')"
   ]
  },
  {
   "cell_type": "code",
   "execution_count": null,
   "id": "8a2f6d25",
   "metadata": {},
   "outputs": [],
   "source": []
  }
 ],
 "metadata": {
  "kernelspec": {
   "display_name": "Python 3 (ipykernel)",
   "language": "python",
   "name": "python3"
  },
  "language_info": {
   "codemirror_mode": {
    "name": "ipython",
    "version": 3
   },
   "file_extension": ".py",
   "mimetype": "text/x-python",
   "name": "python",
   "nbconvert_exporter": "python",
   "pygments_lexer": "ipython3",
   "version": "3.9.12"
  }
 },
 "nbformat": 4,
 "nbformat_minor": 5
}
