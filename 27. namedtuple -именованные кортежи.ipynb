{
 "cells": [
  {
   "cell_type": "code",
   "execution_count": 3,
   "id": "7e76717c",
   "metadata": {},
   "outputs": [],
   "source": [
    "from collections import namedtuple                    #импортируем новый класс namedtuple"
   ]
  },
  {
   "cell_type": "code",
   "execution_count": 5,
   "id": "eef36d8d",
   "metadata": {},
   "outputs": [],
   "source": [
    "Player = namedtuple('Player', 'name age rating')      #создаем namedtuple\n",
    "players = [Player('Carlsen', 1990, 2842), Player('Caruana', 1992, 2822), Player('Mamedyarov', 1985, 2801)]"
   ]
  },
  {
   "cell_type": "code",
   "execution_count": 6,
   "id": "47b0bb2e",
   "metadata": {},
   "outputs": [
    {
     "data": {
      "text/plain": [
       "Plaer(name='Carlsen', age=1990, rating=2842)"
      ]
     },
     "execution_count": 6,
     "metadata": {},
     "output_type": "execute_result"
    }
   ],
   "source": [
    "players [0]                                           #можно обратиться к элементу по индексу"
   ]
  },
  {
   "cell_type": "code",
   "execution_count": 10,
   "id": "2ec79d8c",
   "metadata": {},
   "outputs": [
    {
     "name": "stdout",
     "output_type": "stream",
     "text": [
      "Carlsen\n",
      "1990\n",
      "2842\n"
     ]
    }
   ],
   "source": [
    "print(players[0].name)                                #можно по индексу и уточнить по имени столбца\n",
    "print(players[0].age)\n",
    "print(players[0].rating)"
   ]
  },
  {
   "cell_type": "code",
   "execution_count": null,
   "id": "c346725f",
   "metadata": {},
   "outputs": [],
   "source": []
  }
 ],
 "metadata": {
  "kernelspec": {
   "display_name": "Python 3 (ipykernel)",
   "language": "python",
   "name": "python3"
  },
  "language_info": {
   "codemirror_mode": {
    "name": "ipython",
    "version": 3
   },
   "file_extension": ".py",
   "mimetype": "text/x-python",
   "name": "python",
   "nbconvert_exporter": "python",
   "pygments_lexer": "ipython3",
   "version": "3.9.12"
  }
 },
 "nbformat": 4,
 "nbformat_minor": 5
}
