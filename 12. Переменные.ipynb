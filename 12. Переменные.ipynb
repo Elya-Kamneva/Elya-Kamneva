{
 "cells": [
  {
   "cell_type": "code",
   "execution_count": 1,
   "id": "73c4358e-e48b-470a-9492-ddd57e0b1630",
   "metadata": {},
   "outputs": [],
   "source": [
    "x=3                                #объявляем переменную"
   ]
  },
  {
   "cell_type": "code",
   "execution_count": 2,
   "id": "6b5b40b3-391c-4828-9ed6-f6afe5881b4b",
   "metadata": {},
   "outputs": [
    {
     "name": "stdout",
     "output_type": "stream",
     "text": [
      "3\n"
     ]
    }
   ],
   "source": [
    "print(x)                           #выводим переменную"
   ]
  },
  {
   "cell_type": "code",
   "execution_count": 3,
   "id": "1d0da108-6e79-458a-9c0b-df8f9cf2bc88",
   "metadata": {},
   "outputs": [],
   "source": [
    "x=5                                #изменяем значение переменной"
   ]
  },
  {
   "cell_type": "code",
   "execution_count": 4,
   "id": "f3c868be-206c-4af8-b6e3-c96ff9c0f81f",
   "metadata": {},
   "outputs": [],
   "source": [
    "y=2                                #объявляем новую переменную"
   ]
  },
  {
   "cell_type": "code",
   "execution_count": 5,
   "id": "197e3a17-3e7a-4ba8-bf4e-d077ea0ffab4",
   "metadata": {},
   "outputs": [
    {
     "data": {
      "text/plain": [
       "7"
      ]
     },
     "execution_count": 5,
     "metadata": {},
     "output_type": "execute_result"
    }
   ],
   "source": [
    "x+y                                #сумма переменных"
   ]
  },
  {
   "cell_type": "code",
   "execution_count": 6,
   "id": "b636fcb4-70c5-4b6d-a4dd-fcfd21c588e1",
   "metadata": {},
   "outputs": [
    {
     "name": "stdout",
     "output_type": "stream",
     "text": [
      "1\n",
      "2\n"
     ]
    }
   ],
   "source": [
    "x=1                                #Объявляем переменную\n",
    "print(x)                           #выводим переменную\n",
    "x=x+x                              #присваиваем новое значение переменной в виде суммы с самой собой\n",
    "print(x)                           #выводим переменную с новым значением"
   ]
  },
  {
   "cell_type": "code",
   "execution_count": null,
   "id": "745f8dd4-28e0-41fb-81a8-802065b8e1f9",
   "metadata": {},
   "outputs": [],
   "source": [
    "x = 3.14                           #Объявляем переменную типа float\n",
    "y = 'abc'                          #Объявляем переменную типа str\n",
    "x+y                                #складывать разные типы данных типа float и str нельзя"
   ]
  },
  {
   "cell_type": "code",
   "execution_count": 7,
   "id": "7e6f81b2-efa7-475a-8721-9eb2731f7662",
   "metadata": {},
   "outputs": [
    {
     "name": "stdout",
     "output_type": "stream",
     "text": [
      "4.5\n",
      "2.9047375096555625\n"
     ]
    }
   ],
   "source": [
    "a=2                                 #сторона A\n",
    "b=3                                 #сторона B\n",
    "c=4                                 #сторона С\n",
    "p=(a+b+c)/2                         #периметр треугольника\n",
    "\n",
    "import math                         #импорт модуля для математики, без него не робит sqrt\n",
    "area=math.sqrt(p*(p-a)*(p-b)*(p-c)) #площадь треугольника\n",
    "print(p)                            #выводим периметр\n",
    "print(area)                         #выводим площадь"
   ]
  }
 ],
 "metadata": {
  "kernelspec": {
   "display_name": "Python 3 (ipykernel)",
   "language": "python",
   "name": "python3"
  },
  "language_info": {
   "codemirror_mode": {
    "name": "ipython",
    "version": 3
   },
   "file_extension": ".py",
   "mimetype": "text/x-python",
   "name": "python",
   "nbconvert_exporter": "python",
   "pygments_lexer": "ipython3",
   "version": "3.11.7"
  }
 },
 "nbformat": 4,
 "nbformat_minor": 5
}
