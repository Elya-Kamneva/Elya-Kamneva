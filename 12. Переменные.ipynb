{
 "cells": [
  {
   "cell_type": "code",
   "execution_count": 1,
   "id": "e7279f53",
   "metadata": {},
   "outputs": [],
   "source": [
    "x=3                                #объявляем переменную"
   ]
  },
  {
   "cell_type": "code",
   "execution_count": 2,
   "id": "2532c26a",
   "metadata": {},
   "outputs": [
    {
     "name": "stdout",
     "output_type": "stream",
     "text": [
      "3\n"
     ]
    }
   ],
   "source": [
    "print(x)                           #выводим переменную"
   ]
  },
  {
   "cell_type": "code",
   "execution_count": 3,
   "id": "fb112265",
   "metadata": {},
   "outputs": [],
   "source": [
    "x=5                                #изменяем значение переменной"
   ]
  },
  {
   "cell_type": "code",
   "execution_count": 4,
   "id": "0c799572",
   "metadata": {},
   "outputs": [],
   "source": [
    "y=2                                #объявляем новую переменную"
   ]
  },
  {
   "cell_type": "code",
   "execution_count": 5,
   "id": "b5ee82bc",
   "metadata": {},
   "outputs": [
    {
     "data": {
      "text/plain": [
       "7"
      ]
     },
     "execution_count": 5,
     "metadata": {},
     "output_type": "execute_result"
    }
   ],
   "source": [
    "x+y                                #сумма переменных"
   ]
  },
  {
   "cell_type": "code",
   "execution_count": 17,
   "id": "0533496f",
   "metadata": {},
   "outputs": [
    {
     "name": "stdout",
     "output_type": "stream",
     "text": [
      "1\n",
      "2\n"
     ]
    }
   ],
   "source": [
    "x=1                                #Объявляем переменную\n",
    "print(x)                           #выводим переменную\n",
    "x=x+x                              #присваиваем новое значение переменной в виде суммы с самой собой\n",
    "print(x)                           #выводим переменную с новым значением"
   ]
  },
  {
   "cell_type": "code",
   "execution_count": 18,
   "id": "0310bf70",
   "metadata": {},
   "outputs": [
    {
     "data": {
      "text/plain": [
       "int"
      ]
     },
     "execution_count": 18,
     "metadata": {},
     "output_type": "execute_result"
    }
   ],
   "source": [
    "type(x)                            #выводим тип данных переменной"
   ]
  },
  {
   "cell_type": "code",
   "execution_count": 19,
   "id": "c2fe2ed1",
   "metadata": {},
   "outputs": [
    {
     "data": {
      "text/plain": [
       "float"
      ]
     },
     "execution_count": 19,
     "metadata": {},
     "output_type": "execute_result"
    }
   ],
   "source": [
    "x=3.14                             #объявляем переменную\n",
    "type(x)                            #выводим тип данных переменной"
   ]
  },
  {
   "cell_type": "code",
   "execution_count": 20,
   "id": "dc8c1091",
   "metadata": {},
   "outputs": [
    {
     "name": "stdout",
     "output_type": "stream",
     "text": [
      "abc\n"
     ]
    },
    {
     "data": {
      "text/plain": [
       "str"
      ]
     },
     "execution_count": 20,
     "metadata": {},
     "output_type": "execute_result"
    }
   ],
   "source": [
    "z='abc'                            #объявляем переменную\n",
    "print(z)                           #выводим переменную\n",
    "type(z)                            #выводим тип данных переменной"
   ]
  },
  {
   "cell_type": "code",
   "execution_count": 21,
   "id": "fc394577",
   "metadata": {},
   "outputs": [],
   "source": [
    "#x+z нельзя разные типы данных"
   ]
  },
  {
   "cell_type": "code",
   "execution_count": 22,
   "id": "640ec61c",
   "metadata": {},
   "outputs": [
    {
     "name": "stdout",
     "output_type": "stream",
     "text": [
      "4.5\n",
      "2.9047375096555625\n"
     ]
    }
   ],
   "source": [
    "a=2                                 #сторона A\n",
    "b=3                                 #сторона B\n",
    "c=4                                 #сторона С\n",
    "p=(a+b+c)/2                         #периметр треугольника\n",
    "\n",
    "import math                         #импорт модуля для математики, без него не робит sqrt\n",
    "area=math.sqrt(p*(p-a)*(p-b)*(p-c)) #площадь треугольника\n",
    "print(p)                            #выводим периметр\n",
    "print(area)                         #выводим площадь"
   ]
  },
  {
   "cell_type": "code",
   "execution_count": null,
   "id": "c0ff7c9c",
   "metadata": {},
   "outputs": [],
   "source": []
  }
 ],
 "metadata": {
  "kernelspec": {
   "display_name": "Python 3 (ipykernel)",
   "language": "python",
   "name": "python3"
  },
  "language_info": {
   "codemirror_mode": {
    "name": "ipython",
    "version": 3
   },
   "file_extension": ".py",
   "mimetype": "text/x-python",
   "name": "python",
   "nbconvert_exporter": "python",
   "pygments_lexer": "ipython3",
   "version": "3.9.12"
  }
 },
 "nbformat": 4,
 "nbformat_minor": 5
}
