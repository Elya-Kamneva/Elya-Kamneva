{
 "cells": [
  {
   "cell_type": "code",
   "execution_count": 13,
   "id": "6e0757c3",
   "metadata": {},
   "outputs": [],
   "source": [
    "#list - тип данных список\n",
    "#Коллекции - типы данных, которые содержат набор элементов"
   ]
  },
  {
   "cell_type": "code",
   "execution_count": 14,
   "id": "578749a2",
   "metadata": {},
   "outputs": [],
   "source": [
    "int_list=[1, 2, 3]            #создание списка, синтаксис"
   ]
  },
  {
   "cell_type": "code",
   "execution_count": 15,
   "id": "714e3138",
   "metadata": {},
   "outputs": [],
   "source": [
    "mixed_list=[1, 2.0, 'string'] #список может состоять из элементов разных типов данных"
   ]
  },
  {
   "cell_type": "code",
   "execution_count": 16,
   "id": "8dadcab5",
   "metadata": {},
   "outputs": [
    {
     "data": {
      "text/plain": [
       "3"
      ]
     },
     "execution_count": 16,
     "metadata": {},
     "output_type": "execute_result"
    }
   ],
   "source": [
    "len(int_list)                 #можно узнать длинну списка (т.е кол-во элементов в списке)"
   ]
  },
  {
   "cell_type": "code",
   "execution_count": 17,
   "id": "746e242d",
   "metadata": {},
   "outputs": [
    {
     "name": "stdout",
     "output_type": "stream",
     "text": [
      "1\n",
      "3\n"
     ]
    }
   ],
   "source": [
    "print(int_list[0])            #Можно обращаться к определенному элементу изхз списка с помощью индекса\n",
    "print(int_list[-1])"
   ]
  },
  {
   "cell_type": "code",
   "execution_count": 18,
   "id": "75c8a9cc",
   "metadata": {},
   "outputs": [
    {
     "data": {
      "text/plain": [
       "[2, 3]"
      ]
     },
     "execution_count": 18,
     "metadata": {},
     "output_type": "execute_result"
    }
   ],
   "source": [
    "int_list[1:]                  #можно длеать срезы, т.е отображать элементы в определенном промежутке"
   ]
  },
  {
   "cell_type": "code",
   "execution_count": 19,
   "id": "92e2dbad",
   "metadata": {},
   "outputs": [],
   "source": [
    "#конкотенация - объединение"
   ]
  },
  {
   "cell_type": "code",
   "execution_count": 20,
   "id": "f31a3605",
   "metadata": {},
   "outputs": [
    {
     "data": {
      "text/plain": [
       "['John', 'Boib', 'Alice', 'Tracy', 'Elijan', 'Mason']"
      ]
     },
     "execution_count": 20,
     "metadata": {},
     "output_type": "execute_result"
    }
   ],
   "source": [
    "names1=['John', 'Boib', 'Alice']          \n",
    "names2=['Tracy', 'Elijan', 'Mason']\n",
    "names1+names2                   #можно \"сложить\" данные двух списков в один"
   ]
  },
  {
   "cell_type": "code",
   "execution_count": 21,
   "id": "12064104",
   "metadata": {},
   "outputs": [
    {
     "data": {
      "text/plain": [
       "['Liam', 'Boib', 'Alice']"
      ]
     },
     "execution_count": 21,
     "metadata": {},
     "output_type": "execute_result"
    }
   ],
   "source": [
    "names1[0]='Liam'                #Список является изменяемым, можно изменять элементы внутри списка\n",
    "names1"
   ]
  },
  {
   "cell_type": "code",
   "execution_count": 22,
   "id": "1d7c9216",
   "metadata": {},
   "outputs": [
    {
     "data": {
      "text/plain": [
       "['Liam', 'Boib', 'Alice', 'William', 'James']"
      ]
     },
     "execution_count": 22,
     "metadata": {},
     "output_type": "execute_result"
    }
   ],
   "source": [
    "names1.append('William')        #с помощью функции .append можно добавлять данные в конец списка\n",
    "names1.append('James')\n",
    "names1"
   ]
  },
  {
   "cell_type": "code",
   "execution_count": 24,
   "id": "5ec589ec",
   "metadata": {},
   "outputs": [
    {
     "name": "stdout",
     "output_type": "stream",
     "text": [
      "William\n",
      "['Liam', 'Boib', 'Alice']\n"
     ]
    }
   ],
   "source": [
    "popped=names1.pop()             \n",
    "#функция .pop удаляет элемент из списка, если не передать индекс, то по умолчанию удалится последний элемент\n",
    "print(popped)\n",
    "print(names1)"
   ]
  },
  {
   "cell_type": "code",
   "execution_count": 25,
   "id": "516043ba",
   "metadata": {},
   "outputs": [
    {
     "data": {
      "text/plain": [
       "['Boib', 'Alice']"
      ]
     },
     "execution_count": 25,
     "metadata": {},
     "output_type": "execute_result"
    }
   ],
   "source": [
    "names1.pop(0)                    #указав индекс, можем удалить конкретный элемент в списке\n",
    "names1"
   ]
  },
  {
   "cell_type": "code",
   "execution_count": 26,
   "id": "52c9bca7",
   "metadata": {},
   "outputs": [
    {
     "data": {
      "text/plain": [
       "['Alice', 'Boib', 'James']"
      ]
     },
     "execution_count": 26,
     "metadata": {},
     "output_type": "execute_result"
    }
   ],
   "source": [
    "names1.append('James')            #можно сортировать список с помощью функции .sort\n",
    "names1.sort()\n",
    "names1"
   ]
  },
  {
   "cell_type": "code",
   "execution_count": 27,
   "id": "b210706a",
   "metadata": {},
   "outputs": [
    {
     "name": "stdout",
     "output_type": "stream",
     "text": [
      "['ab', 'ac', 'ad']\n"
     ]
    }
   ],
   "source": [
    "letters = ['ac', 'ab', 'ad']      #сортируем по алфавиту\n",
    "letters.sort()\n",
    "print(letters)"
   ]
  },
  {
   "cell_type": "code",
   "execution_count": 28,
   "id": "4f1c6f97",
   "metadata": {},
   "outputs": [
    {
     "name": "stdout",
     "output_type": "stream",
     "text": [
      "['a', 'ab', 'abc']\n"
     ]
    }
   ],
   "source": [
    "letters = ['abc', 'a', 'ab']     #можно передавать ключ при сортировке(то есть способ сортировки)\n",
    "letters.sort(key=len)            #shift+tab - вызвать подсказку\n",
    "print(letters)"
   ]
  },
  {
   "cell_type": "code",
   "execution_count": 29,
   "id": "f82fc2c0",
   "metadata": {},
   "outputs": [
    {
     "data": {
      "text/plain": [
       "[1, 1, 4, 3, 0, 5, 8, 2, 3]"
      ]
     },
     "execution_count": 29,
     "metadata": {},
     "output_type": "execute_result"
    }
   ],
   "source": [
    "numbers = [3,2,8,5,0,3,4,1,1]    #используя функцию .reverse можно отсортировать список в обратном направлении\n",
    "numbers.reverse()\n",
    "numbers"
   ]
  },
  {
   "cell_type": "code",
   "execution_count": 31,
   "id": "bb7d411a",
   "metadata": {},
   "outputs": [
    {
     "data": {
      "text/plain": [
       "[8, 5, 4, 3, 3, 2, 1, 1, 0]"
      ]
     },
     "execution_count": 31,
     "metadata": {},
     "output_type": "execute_result"
    }
   ],
   "source": [
    "numbers.sort(reverse=True)       #или передать reverse как ключ при сортировке\n",
    "numbers"
   ]
  },
  {
   "cell_type": "code",
   "execution_count": 32,
   "id": "6f3200aa",
   "metadata": {},
   "outputs": [
    {
     "data": {
      "text/plain": [
       "[8, 22, 5, 4, 3, 3, 2, 1, 1, 0]"
      ]
     },
     "execution_count": 32,
     "metadata": {},
     "output_type": "execute_result"
    }
   ],
   "source": [
    "numbers.insert(1, 22)             #можно добавить элемент на определенный индекса\n",
    "numbers"
   ]
  },
  {
   "cell_type": "code",
   "execution_count": 33,
   "id": "3c1cbd2d",
   "metadata": {},
   "outputs": [
    {
     "data": {
      "text/plain": [
       "1"
      ]
     },
     "execution_count": 33,
     "metadata": {},
     "output_type": "execute_result"
    }
   ],
   "source": [
    "numbers.index(22)                 #можно узнать индекс определенного элемента в списке с помощью .index"
   ]
  },
  {
   "cell_type": "code",
   "execution_count": 34,
   "id": "37dfe0cd",
   "metadata": {},
   "outputs": [
    {
     "name": "stdout",
     "output_type": "stream",
     "text": [
      "2\n"
     ]
    }
   ],
   "source": [
    "print(numbers.count(3))            #можно узнать как часто встречается элемент в списке"
   ]
  },
  {
   "cell_type": "code",
   "execution_count": 35,
   "id": "6c733a9b",
   "metadata": {},
   "outputs": [
    {
     "name": "stdout",
     "output_type": "stream",
     "text": [
      "[8, 22, 5, 4, 3, 3, 2, 1, 1, 0]\n"
     ]
    }
   ],
   "source": [
    "copy = numbers.copy()              #можем создать копию списка сохранив предыдущий\n",
    "print(copy)                        #если в оригинале будут изменения то и в копии они применятся"
   ]
  },
  {
   "cell_type": "code",
   "execution_count": 36,
   "id": "0dfea574",
   "metadata": {},
   "outputs": [
    {
     "data": {
      "text/plain": [
       "[]"
      ]
     },
     "execution_count": 36,
     "metadata": {},
     "output_type": "execute_result"
    }
   ],
   "source": [
    "numbers.clear()                    #можно очистить список с помощью .clear\n",
    "numbers"
   ]
  }
 ],
 "metadata": {
  "kernelspec": {
   "display_name": "Python 3 (ipykernel)",
   "language": "python",
   "name": "python3"
  },
  "language_info": {
   "codemirror_mode": {
    "name": "ipython",
    "version": 3
   },
   "file_extension": ".py",
   "mimetype": "text/x-python",
   "name": "python",
   "nbconvert_exporter": "python",
   "pygments_lexer": "ipython3",
   "version": "3.9.12"
  }
 },
 "nbformat": 4,
 "nbformat_minor": 5
}
