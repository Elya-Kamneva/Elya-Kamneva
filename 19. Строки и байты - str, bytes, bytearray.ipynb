{
 "cells": [
  {
   "cell_type": "code",
   "execution_count": 3,
   "id": "5a55326f",
   "metadata": {},
   "outputs": [
    {
     "data": {
      "text/plain": [
       "'utf-8'"
      ]
     },
     "execution_count": 3,
     "metadata": {},
     "output_type": "execute_result"
    }
   ],
   "source": [
    "import sys               #локальная кодировочная таблица\n",
    "sys.getdefaultencoding()"
   ]
  },
  {
   "cell_type": "code",
   "execution_count": 4,
   "id": "8b99a7e9",
   "metadata": {},
   "outputs": [
    {
     "data": {
      "text/plain": [
       "97"
      ]
     },
     "execution_count": 4,
     "metadata": {},
     "output_type": "execute_result"
    }
   ],
   "source": [
    "ord('a')                 #узнаем код символа по локальной кодировочной таблице"
   ]
  },
  {
   "cell_type": "code",
   "execution_count": 5,
   "id": "a90063cb",
   "metadata": {},
   "outputs": [
    {
     "data": {
      "text/plain": [
       "'a'"
      ]
     },
     "execution_count": 5,
     "metadata": {},
     "output_type": "execute_result"
    }
   ],
   "source": [
    "chr(97)                 #из кода узнаем какой символ"
   ]
  },
  {
   "cell_type": "code",
   "execution_count": 8,
   "id": "e3cdb7ea",
   "metadata": {},
   "outputs": [
    {
     "name": "stdout",
     "output_type": "stream",
     "text": [
      "<class 'bytes'>\n",
      "b'hello'\n",
      "b'hello'\n",
      "b'\\xff\\xfeh\\x00e\\x00l\\x00l\\x00o\\x00'\n"
     ]
    }
   ],
   "source": [
    "s = 'hello'                        #выводим строку в код\n",
    "enc_ascii = s.encode('ascii')      #.encode переводит символы в кодировку\n",
    "enc_utf8 = s.encode('utf8')\n",
    "enc_itf16 = s.encode('utf16')\n",
    "\n",
    "print(type(enc_ascii))\n",
    "print(enc_ascii)\n",
    "print(enc_utf8)\n",
    "print(enc_itf16)"
   ]
  },
  {
   "cell_type": "code",
   "execution_count": 7,
   "id": "bb18fac7",
   "metadata": {},
   "outputs": [
    {
     "name": "stdout",
     "output_type": "stream",
     "text": [
      "5\n",
      "5\n",
      "12\n"
     ]
    }
   ],
   "source": [
    "print(len(enc_ascii))\n",
    "print(len(enc_utf8))\n",
    "print(len(enc_itf16))"
   ]
  },
  {
   "cell_type": "code",
   "execution_count": 13,
   "id": "05865108",
   "metadata": {},
   "outputs": [
    {
     "name": "stdout",
     "output_type": "stream",
     "text": [
      "<class 'bytes'>\n",
      "<class 'str'>\n"
     ]
    }
   ],
   "source": [
    "str_in_bytes = b'hello'           #можно сразу перевести кодировку\n",
    "str_in_bytes = s.encode('utf8')\n",
    "\n",
    "str_in_text = 'hello'\n",
    "\n",
    "print(type(str_in_bytes))\n",
    "print(type(str_in_text))"
   ]
  },
  {
   "cell_type": "code",
   "execution_count": 11,
   "id": "29df12ad",
   "metadata": {},
   "outputs": [
    {
     "name": "stdout",
     "output_type": "stream",
     "text": [
      "b'bytes'\n",
      "b'\\xd0\\xb1\\xd0\\xb0\\xd0\\xb9\\xd1\\x82\\xd1\\x8b'\n",
      "104\n",
      "h\n"
     ]
    }
   ],
   "source": [
    "print('bytes'.encode('utf8'))        #Способы вызова .encode\n",
    "print('байты'.encode('utf8'))\n",
    "\n",
    "print(str_in_bytes[0])\n",
    "print(str_in_text[0])"
   ]
  },
  {
   "cell_type": "code",
   "execution_count": 14,
   "id": "c52a1832",
   "metadata": {},
   "outputs": [
    {
     "data": {
      "text/plain": [
       "bytearray(b'Wello')"
      ]
     },
     "execution_count": 14,
     "metadata": {},
     "output_type": "execute_result"
    }
   ],
   "source": [
    "ba = bytearray(b'hello')           #bytearray позволяет редактировать символы по байтам\n",
    "ba[0] = 87\n",
    "ba"
   ]
  },
  {
   "cell_type": "code",
   "execution_count": 16,
   "id": "2326e2ff",
   "metadata": {},
   "outputs": [
    {
     "name": "stdout",
     "output_type": "stream",
     "text": [
      "hello\n",
      "hello\n"
     ]
    }
   ],
   "source": [
    "result = str(str_in_bytes, 'utf8')  #при переводе байтов в строку, указываем таблицу кодировки\n",
    "print(result)\n",
    "\n",
    "#или\n",
    "\n",
    "result = str_in_bytes.decode('utf8')#или использовать функцию .decode\n",
    "print(result)"
   ]
  },
  {
   "cell_type": "code",
   "execution_count": 17,
   "id": "dae3adfe",
   "metadata": {},
   "outputs": [],
   "source": [
    "jpeg = [120, 3, 255, 0, 100]\n",
    "with open (r'C:\\Users\\Asus\\ElinaStudy\\test.txt', 'w+b') as file:\n",
    "    file.write(bytes(jpeg))"
   ]
  },
  {
   "cell_type": "code",
   "execution_count": 19,
   "id": "809f2c8b",
   "metadata": {},
   "outputs": [],
   "source": [
    "with open (r'C:\\Users\\Asus\\ElinaStudy\\test.txt', 'w+b') as file:\n",
    "    data = file.read()\n",
    "    for b in data:\n",
    "        print(int(b))"
   ]
  },
  {
   "cell_type": "code",
   "execution_count": null,
   "id": "0ed61a3c",
   "metadata": {},
   "outputs": [],
   "source": []
  }
 ],
 "metadata": {
  "kernelspec": {
   "display_name": "Python 3 (ipykernel)",
   "language": "python",
   "name": "python3"
  },
  "language_info": {
   "codemirror_mode": {
    "name": "ipython",
    "version": 3
   },
   "file_extension": ".py",
   "mimetype": "text/x-python",
   "name": "python",
   "nbconvert_exporter": "python",
   "pygments_lexer": "ipython3",
   "version": "3.9.12"
  }
 },
 "nbformat": 4,
 "nbformat_minor": 5
}
