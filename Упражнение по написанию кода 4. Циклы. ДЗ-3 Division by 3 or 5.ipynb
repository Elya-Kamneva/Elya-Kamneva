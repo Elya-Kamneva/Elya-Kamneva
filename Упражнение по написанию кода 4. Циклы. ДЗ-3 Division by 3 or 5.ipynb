{
 "cells": [
  {
   "cell_type": "code",
   "execution_count": 1,
   "id": "36f8001a",
   "metadata": {},
   "outputs": [],
   "source": [
    "#Вы получаете ввод числа от пользователя.\n",
    "#\n",
    "#Построить цикл от 0 до введённого числа (включительно) и посчитать сумму всех чисел, делимых без остатка на 3 или 5. \n",
    "#Вывести на консоль это число.\n",
    "#\n",
    "#Примечание: задача решается как прямым for, так и с помощью list comprehension\n",
    "#(просуммировать числа \"профильтрованного\" списка можно, передав список в функцию sum(arg_list))."
   ]
  },
  {
   "cell_type": "code",
   "execution_count": 1,
   "id": "b415a666",
   "metadata": {},
   "outputs": [
    {
     "name": "stdout",
     "output_type": "stream",
     "text": [
      "Введите число: 5\n",
      "8\n",
      "[0, 3, 5]\n"
     ]
    }
   ],
   "source": [
    "limit = int(input('Введите число: '))   #убрать строку перед импортом в udemi\n",
    "\n",
    "numbers = [n for n in range(0,limit+1) if n%3==0 or n%5==0]\n",
    "print(sum(numbers))\n",
    "\n",
    "print(numbers)"
   ]
  },
  {
   "cell_type": "code",
   "execution_count": null,
   "id": "d67840b5",
   "metadata": {},
   "outputs": [],
   "source": [
    "#или\n",
    "limit = int(input('Введите число: '))   #убрать строку перед импортом в udemi\n",
    "\n",
    "print(sum([n for n in range(0,limit+1) if n%3==0 or n%5==0]))"
   ]
  },
  {
   "cell_type": "code",
   "execution_count": 4,
   "id": "2b1d7fb4",
   "metadata": {},
   "outputs": [
    {
     "name": "stdout",
     "output_type": "stream",
     "text": [
      "Введите число: 5\n",
      "8\n"
     ]
    }
   ],
   "source": [
    "#или\n",
    "limit = int(input('Введите число: '))   #убрать строку перед импортом в udemi\n",
    "\n",
    "sum=0\n",
    "for n in range(0, limit+1):\n",
    "    if n%3 == 0:\n",
    "        sum+=n\n",
    "    elif n%5 == 0:\n",
    "        sum+=n\n",
    "    else:\n",
    "        continue\n",
    "print(sum)"
   ]
  },
  {
   "cell_type": "code",
   "execution_count": null,
   "id": "dc875b53",
   "metadata": {},
   "outputs": [],
   "source": [
    "#решение учителя\n",
    "limit = int(input('Enter the limit'))\n",
    "\n",
    "total_sum = 0\n",
    "for x in range(limit+1):\n",
    "    if x%3==0 or x%5==0:\n",
    "        total_sum+=x\n",
    "    else:\n",
    "        continue\n",
    "print(f'Total sum ={total_sum}')\n",
    "\n",
    "#or\n",
    "total_sum =sum([x for x in range(limit+1) if x%3==0 or x%5==0])"
   ]
  }
 ],
 "metadata": {
  "kernelspec": {
   "display_name": "Python 3 (ipykernel)",
   "language": "python",
   "name": "python3"
  },
  "language_info": {
   "codemirror_mode": {
    "name": "ipython",
    "version": 3
   },
   "file_extension": ".py",
   "mimetype": "text/x-python",
   "name": "python",
   "nbconvert_exporter": "python",
   "pygments_lexer": "ipython3",
   "version": "3.9.12"
  }
 },
 "nbformat": 4,
 "nbformat_minor": 5
}
