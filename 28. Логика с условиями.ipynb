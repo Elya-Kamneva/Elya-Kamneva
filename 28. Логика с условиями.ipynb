{
 "cells": [
  {
   "cell_type": "code",
   "execution_count": 1,
   "id": "e9ef85b1",
   "metadata": {},
   "outputs": [
    {
     "name": "stdout",
     "output_type": "stream",
     "text": [
      "Indeed, true.\n"
     ]
    }
   ],
   "source": [
    "if True:                               #программа всегда по умолчанию True если нет вычислений приводящих к этому значению\n",
    "    print('Indeed, true.')"
   ]
  },
  {
   "cell_type": "code",
   "execution_count": 2,
   "id": "bcc26afd",
   "metadata": {},
   "outputs": [
    {
     "name": "stdout",
     "output_type": "stream",
     "text": [
      "3 is greater than 2\n"
     ]
    }
   ],
   "source": [
    "if 3>2:                                #можно указывать вычисления сруз внутри ветвления\n",
    "    print('3 is greater than 2')"
   ]
  },
  {
   "cell_type": "code",
   "execution_count": 4,
   "id": "70d3063b",
   "metadata": {},
   "outputs": [],
   "source": [
    "if 3<2:                                #если итог вычислений False то ветка не отработает\n",
    "    print('3 is less than 2')"
   ]
  },
  {
   "cell_type": "code",
   "execution_count": 13,
   "id": "eaed7fa0",
   "metadata": {},
   "outputs": [
    {
     "name": "stdout",
     "output_type": "stream",
     "text": [
      "It's admin\n"
     ]
    }
   ],
   "source": [
    "is_admin = True                        #можно сравнивать с переменной\n",
    "if is_admin:\n",
    "    print(\"It's admin\")"
   ]
  },
  {
   "cell_type": "code",
   "execution_count": 12,
   "id": "31446184",
   "metadata": {},
   "outputs": [
    {
     "name": "stdout",
     "output_type": "stream",
     "text": [
      "jsndf\n",
      "Hmm... it seems we have a new race.\n"
     ]
    }
   ],
   "source": [
    "selected_character = input()         #можно делать разветвление с помощью if elif и else\n",
    "if selected_character == 'Protos':\n",
    "    print('Protos is the most powerful race')\n",
    "elif selected_character == 'Zerg':\n",
    "    print('Zerg iss the most weak race but it spreads like a plague')\n",
    "else:\n",
    "    print('Hmm... it seems we have a new race.')"
   ]
  },
  {
   "cell_type": "code",
   "execution_count": null,
   "id": "903bc9d7",
   "metadata": {},
   "outputs": [],
   "source": []
  }
 ],
 "metadata": {
  "kernelspec": {
   "display_name": "Python 3 (ipykernel)",
   "language": "python",
   "name": "python3"
  },
  "language_info": {
   "codemirror_mode": {
    "name": "ipython",
    "version": 3
   },
   "file_extension": ".py",
   "mimetype": "text/x-python",
   "name": "python",
   "nbconvert_exporter": "python",
   "pygments_lexer": "ipython3",
   "version": "3.9.12"
  }
 },
 "nbformat": 4,
 "nbformat_minor": 5
}
