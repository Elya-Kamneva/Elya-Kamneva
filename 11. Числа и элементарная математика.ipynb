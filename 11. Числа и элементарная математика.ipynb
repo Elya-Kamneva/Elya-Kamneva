{
 "cells": [
  {
   "cell_type": "code",
   "execution_count": 1,
   "id": "c7342b6a",
   "metadata": {},
   "outputs": [
    {
     "data": {
      "text/plain": [
       "2"
      ]
     },
     "execution_count": 1,
     "metadata": {},
     "output_type": "execute_result"
    }
   ],
   "source": [
    "1+1               #сумма чисел"
   ]
  },
  {
   "cell_type": "code",
   "execution_count": 2,
   "id": "6398c842",
   "metadata": {},
   "outputs": [
    {
     "data": {
      "text/plain": [
       "1"
      ]
     },
     "execution_count": 2,
     "metadata": {},
     "output_type": "execute_result"
    }
   ],
   "source": [
    "2-1                #разность чисел"
   ]
  },
  {
   "cell_type": "code",
   "execution_count": 3,
   "id": "433c68b6",
   "metadata": {},
   "outputs": [
    {
     "data": {
      "text/plain": [
       "2"
      ]
     },
     "execution_count": 3,
     "metadata": {},
     "output_type": "execute_result"
    }
   ],
   "source": [
    "2*1                #произведение чисел"
   ]
  },
  {
   "cell_type": "code",
   "execution_count": 4,
   "id": "65da0485",
   "metadata": {},
   "outputs": [
    {
     "data": {
      "text/plain": [
       "2.0"
      ]
     },
     "execution_count": 4,
     "metadata": {},
     "output_type": "execute_result"
    }
   ],
   "source": [
    "2/1                #деление числел всегда возвращает тип данных float - числа с плавающей точкой"
   ]
  },
  {
   "cell_type": "code",
   "execution_count": 6,
   "id": "46c923e3",
   "metadata": {},
   "outputs": [
    {
     "data": {
      "text/plain": [
       "2.3"
      ]
     },
     "execution_count": 6,
     "metadata": {},
     "output_type": "execute_result"
    }
   ],
   "source": [
    "2.3*1              #если при арифметике использовать float то итоговое значение тоже float"
   ]
  },
  {
   "cell_type": "code",
   "execution_count": 7,
   "id": "07714af0",
   "metadata": {},
   "outputs": [
    {
     "data": {
      "text/plain": [
       "3.9"
      ]
     },
     "execution_count": 7,
     "metadata": {},
     "output_type": "execute_result"
    }
   ],
   "source": [
    "round(1.3*3, 2)    #round округляет float до определенного кол-ва знаков после запятой, указывается аргументом через запятую"
   ]
  },
  {
   "cell_type": "code",
   "execution_count": 8,
   "id": "23f1cde5",
   "metadata": {},
   "outputs": [
    {
     "data": {
      "text/plain": [
       "2"
      ]
     },
     "execution_count": 8,
     "metadata": {},
     "output_type": "execute_result"
    }
   ],
   "source": [
    "8%3                #% отдает остаток от деления "
   ]
  },
  {
   "cell_type": "code",
   "execution_count": 9,
   "id": "a9dab7fc",
   "metadata": {},
   "outputs": [
    {
     "data": {
      "text/plain": [
       "True"
      ]
     },
     "execution_count": 9,
     "metadata": {},
     "output_type": "execute_result"
    }
   ],
   "source": [
    "8%2==0            #можно определить четное число или нет: true = четное, false = нечетное"
   ]
  },
  {
   "cell_type": "code",
   "execution_count": 10,
   "id": "4de3558f",
   "metadata": {},
   "outputs": [
    {
     "data": {
      "text/plain": [
       "16"
      ]
     },
     "execution_count": 10,
     "metadata": {},
     "output_type": "execute_result"
    }
   ],
   "source": [
    "2**4              #** = возведение числа в степень"
   ]
  },
  {
   "cell_type": "code",
   "execution_count": null,
   "id": "71d1e47c",
   "metadata": {},
   "outputs": [],
   "source": []
  }
 ],
 "metadata": {
  "kernelspec": {
   "display_name": "Python 3 (ipykernel)",
   "language": "python",
   "name": "python3"
  },
  "language_info": {
   "codemirror_mode": {
    "name": "ipython",
    "version": 3
   },
   "file_extension": ".py",
   "mimetype": "text/x-python",
   "name": "python",
   "nbconvert_exporter": "python",
   "pygments_lexer": "ipython3",
   "version": "3.9.12"
  }
 },
 "nbformat": 4,
 "nbformat_minor": 5
}
