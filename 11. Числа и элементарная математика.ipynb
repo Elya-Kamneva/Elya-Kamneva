{
 "cells": [
  {
   "cell_type": "code",
   "execution_count": 1,
   "id": "9051917c-07a1-4297-805d-216c097cb8a6",
   "metadata": {},
   "outputs": [
    {
     "data": {
      "text/plain": [
       "2"
      ]
     },
     "execution_count": 1,
     "metadata": {},
     "output_type": "execute_result"
    }
   ],
   "source": [
    "1+1               #сумма чисел"
   ]
  },
  {
   "cell_type": "code",
   "execution_count": 2,
   "id": "6ef3ea22-5897-4a5f-852b-3792b074cf9d",
   "metadata": {},
   "outputs": [
    {
     "data": {
      "text/plain": [
       "1"
      ]
     },
     "execution_count": 2,
     "metadata": {},
     "output_type": "execute_result"
    }
   ],
   "source": [
    "2-1                #разность чисел"
   ]
  },
  {
   "cell_type": "code",
   "execution_count": 3,
   "id": "cf9f29be-1940-476d-85e8-654bb89deaf0",
   "metadata": {},
   "outputs": [
    {
     "data": {
      "text/plain": [
       "2"
      ]
     },
     "execution_count": 3,
     "metadata": {},
     "output_type": "execute_result"
    }
   ],
   "source": [
    "2*1                #произведение чисел"
   ]
  },
  {
   "cell_type": "code",
   "execution_count": 4,
   "id": "5f0ceaec-4aa5-4eaf-8bcc-a2b858fc6a1d",
   "metadata": {},
   "outputs": [
    {
     "data": {
      "text/plain": [
       "2.0"
      ]
     },
     "execution_count": 4,
     "metadata": {},
     "output_type": "execute_result"
    }
   ],
   "source": [
    "2/1                #деление числел всегда возвращает тип данных float - числа с плавающей точкой"
   ]
  },
  {
   "cell_type": "code",
   "execution_count": 5,
   "id": "394cfb8e-aedd-4931-9052-add9866f6a13",
   "metadata": {},
   "outputs": [
    {
     "data": {
      "text/plain": [
       "2.3"
      ]
     },
     "execution_count": 5,
     "metadata": {},
     "output_type": "execute_result"
    }
   ],
   "source": [
    "2.3*1              #если при арифметике использовать float то итоговое значение тоже float"
   ]
  },
  {
   "cell_type": "code",
   "execution_count": 6,
   "id": "86b9294e-d734-4553-9e99-fd461875d68e",
   "metadata": {},
   "outputs": [
    {
     "data": {
      "text/plain": [
       "3.9"
      ]
     },
     "execution_count": 6,
     "metadata": {},
     "output_type": "execute_result"
    }
   ],
   "source": [
    "round(1.3*3, 2)    #round округляет float до определенного кол-ва знаков после запятой, указывается аргументом через запятую"
   ]
  },
  {
   "cell_type": "code",
   "execution_count": 7,
   "id": "67267c0f-9da6-423a-9316-ea92e9a866d0",
   "metadata": {},
   "outputs": [
    {
     "data": {
      "text/plain": [
       "2"
      ]
     },
     "execution_count": 7,
     "metadata": {},
     "output_type": "execute_result"
    }
   ],
   "source": [
    "8%3                #% отдает остаток от деления"
   ]
  },
  {
   "cell_type": "code",
   "execution_count": 8,
   "id": "5af497e0-4d46-4278-85a7-237ead64364b",
   "metadata": {},
   "outputs": [
    {
     "data": {
      "text/plain": [
       "True"
      ]
     },
     "execution_count": 8,
     "metadata": {},
     "output_type": "execute_result"
    }
   ],
   "source": [
    "8%2==0            #можно определить четное число или нет: true = четное, false = нечетное"
   ]
  },
  {
   "cell_type": "code",
   "execution_count": 9,
   "id": "3c2c363d-6c41-4016-a036-6bdba012a5f6",
   "metadata": {},
   "outputs": [
    {
     "data": {
      "text/plain": [
       "16"
      ]
     },
     "execution_count": 9,
     "metadata": {},
     "output_type": "execute_result"
    }
   ],
   "source": [
    "2**4              #** = возведение числа в степень"
   ]
  },
  {
   "cell_type": "code",
   "execution_count": 10,
   "id": "c1e62f6d-33a0-4125-89ee-4ca2fd42371f",
   "metadata": {},
   "outputs": [
    {
     "data": {
      "text/plain": [
       "8"
      ]
     },
     "execution_count": 10,
     "metadata": {},
     "output_type": "execute_result"
    }
   ],
   "source": [
    "(2+2)*2           #скобки помогают расставить приоритизацию по математическим вычислениям (без скобок сначала умножение и деление потом сумма и разность)"
   ]
  }
 ],
 "metadata": {
  "kernelspec": {
   "display_name": "Python 3 (ipykernel)",
   "language": "python",
   "name": "python3"
  },
  "language_info": {
   "codemirror_mode": {
    "name": "ipython",
    "version": 3
   },
   "file_extension": ".py",
   "mimetype": "text/x-python",
   "name": "python",
   "nbconvert_exporter": "python",
   "pygments_lexer": "ipython3",
   "version": "3.11.7"
  }
 },
 "nbformat": 4,
 "nbformat_minor": 5
}
