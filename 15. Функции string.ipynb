{
 "cells": [
  {
   "cell_type": "code",
   "execution_count": 1,
   "id": "66ba1647",
   "metadata": {},
   "outputs": [],
   "source": [
    " a='Hello, ma name is Elina'     #создаем переменную со строкой"
   ]
  },
  {
   "cell_type": "code",
   "execution_count": 16,
   "id": "747934e4",
   "metadata": {},
   "outputs": [
    {
     "data": {
      "text/plain": [
       "23"
      ]
     },
     "execution_count": 16,
     "metadata": {},
     "output_type": "execute_result"
    }
   ],
   "source": [
    "len(a)                           #len - количество символов в строке\n",
    "b=len(b)                         #все функции возвращают новую строчку, поэтому это дело можно обернуть в переменную.\n",
    "b "
   ]
  },
  {
   "cell_type": "code",
   "execution_count": 17,
   "id": "057137bf",
   "metadata": {},
   "outputs": [
    {
     "data": {
      "text/plain": [
       "'a'"
      ]
     },
     "execution_count": 17,
     "metadata": {},
     "output_type": "execute_result"
    }
   ],
   "source": [
    "a[len(a)-1]                      #обратиться к последнему символу в строке\n",
    "c=a[len(a)-1]                    #все функции возвращают новую строчку, поэтому это дело можно обернуть в переменную.\n",
    "c"
   ]
  },
  {
   "cell_type": "code",
   "execution_count": 8,
   "id": "4639fd20",
   "metadata": {},
   "outputs": [
    {
     "data": {
      "text/plain": [
       "True"
      ]
     },
     "execution_count": 8,
     "metadata": {},
     "output_type": "execute_result"
    }
   ],
   "source": [
    "a[len(a)-1]==a[-1]               #Можно использовать вместо индекса [-1]"
   ]
  },
  {
   "cell_type": "code",
   "execution_count": 9,
   "id": "c2b39896",
   "metadata": {},
   "outputs": [
    {
     "data": {
      "text/plain": [
       "3"
      ]
     },
     "execution_count": 9,
     "metadata": {},
     "output_type": "execute_result"
    }
   ],
   "source": [
    "a.count('l')                     #сколько раз встречается символ в строке"
   ]
  },
  {
   "cell_type": "code",
   "execution_count": 18,
   "id": "8b015b29",
   "metadata": {},
   "outputs": [
    {
     "data": {
      "text/plain": [
       "'Hello, ma name is elina'"
      ]
     },
     "execution_count": 18,
     "metadata": {},
     "output_type": "execute_result"
    }
   ],
   "source": [
    "a.capitalize()                   #Меняет регистр в строке, первый символ большой, а все остальные маленький регистр\n",
    "d=a.capitalize()                 #все функции возвращают новую строчку, поэтому это дело можно обернуть в переменную.\n",
    "d"
   ]
  },
  {
   "cell_type": "code",
   "execution_count": 25,
   "id": "ac39a034",
   "metadata": {},
   "outputs": [
    {
     "name": "stdout",
     "output_type": "stream",
     "text": [
      "HELLO, MA NAME IS ELINA\n"
     ]
    }
   ],
   "source": [
    "a.upper()                        #меняет регистр в строке, делает все буквы большими\n",
    "f=a.upper()                      #все функции возвращают новую строчку, поэтому это дело можно обернуть в переменную.\n",
    "print(b)"
   ]
  },
  {
   "cell_type": "code",
   "execution_count": 22,
   "id": "1e67490f",
   "metadata": {},
   "outputs": [
    {
     "data": {
      "text/plain": [
       "'hello, ma name is elina'"
      ]
     },
     "execution_count": 22,
     "metadata": {},
     "output_type": "execute_result"
    }
   ],
   "source": [
    "a.lower()                        #меняет регистр в строчке, все буквы делает маленькими\n",
    "g=a.lower()                      #все функции возвращают новую строчку, поэтому это дело можно обернуть в переменную.\n",
    "g"
   ]
  },
  {
   "cell_type": "code",
   "execution_count": 27,
   "id": "74932951",
   "metadata": {},
   "outputs": [
    {
     "name": "stdout",
     "output_type": "stream",
     "text": [
      "True\n",
      "True\n",
      "False\n",
      "False\n"
     ]
    }
   ],
   "source": [
    "print(f.isupper())               #проверят все ли символы верхнего регистра в строке\n",
    "print(g.islower())               #проверяет все ли символы в строке нижнего регистра\n",
    "print(a.isupper())               #выводит результат проверки на верхний регистр в основной строке\n",
    "print(a.islower())               #выводит резкльтат проверки на нижний регистр в основной строке"
   ]
  },
  {
   "cell_type": "code",
   "execution_count": 33,
   "id": "5caf6910",
   "metadata": {
    "scrolled": false
   },
   "outputs": [
    {
     "name": "stdout",
     "output_type": "stream",
     "text": [
      "2\n",
      "19\n",
      "-1\n",
      "7\n",
      "12\n",
      "7\n"
     ]
    }
   ],
   "source": [
    "print(a.find('l'))               #.find помогает найти индекс символа в строке. Если символов несколько, покажет первый найденный\n",
    "print(a.find('l',5)) \n",
    "print(a.find('l',5,10))          #можно указать диапазон поисков. 5 здесь это от какого символа начать поиск, 10 - чем закончить\n",
    "print(a.find('m', 7,15))\n",
    "print(a.find('m', 8,15))         #ответ -1 означает что не нашли символ\n",
    "print(a.find('ma'))              #можно так же найти индекс подстроки, с которого начинается подстрока"
   ]
  },
  {
   "cell_type": "code",
   "execution_count": 35,
   "id": "c373267d",
   "metadata": {},
   "outputs": [
    {
     "name": "stdout",
     "output_type": "stream",
     "text": [
      "True\n",
      "False\n",
      "False\n",
      "True\n"
     ]
    }
   ],
   "source": [
    "print('123abc'.isalnum())         #.isalnum проверяет состоит ли строка только из цифр и букв\n",
    "print('123abc!@'.isalnum())       #если есть символ вернет False\n",
    "print('123abc'.isalpha())         #проверяет, только ли буквы в строке\n",
    "print('abc'.isalpha())"
   ]
  },
  {
   "cell_type": "code",
   "execution_count": 44,
   "id": "0d969206",
   "metadata": {
    "scrolled": true
   },
   "outputs": [
    {
     "name": "stdout",
     "output_type": "stream",
     "text": [
      "True\n",
      "False\n",
      "True\n",
      "True\n",
      "True\n"
     ]
    }
   ],
   "source": [
    "print('   '.isspace())             #проверяет пустая ли строчка. Вернет True если есть пробелы\n",
    "print(''.isspace())                #если строка совсем не содержит символов вернет False\n",
    "\n",
    "empty_string=''                    #когда нужно проверить на полностью пустую строку тогда сравниваем с пустой строкой\n",
    "print(empty_string == '')\n",
    "\n",
    "empty_string='   '\n",
    "print(empty_string.strip(' ')=='') #.strip удаляет пробелы\n",
    "print(empty_string.strip()=='')"
   ]
  },
  {
   "cell_type": "code",
   "execution_count": 47,
   "id": "7b77ade6",
   "metadata": {},
   "outputs": [
    {
     "name": "stdout",
     "output_type": "stream",
     "text": [
      "empty\n"
     ]
    }
   ],
   "source": [
    "empty_string = ' '                 #определеяет пустая строка или нет, инструкция if - else будет рассмотренна позже\n",
    "if not empty_string:\n",
    "    print('not empty')\n",
    "else:\n",
    "    print('empty')"
   ]
  },
  {
   "cell_type": "code",
   "execution_count": 50,
   "id": "6d59e392",
   "metadata": {},
   "outputs": [
    {
     "name": "stdout",
     "output_type": "stream",
     "text": [
      "True\n",
      "True\n"
     ]
    }
   ],
   "source": [
    "h='hello'\n",
    "print(h.startswith('he'))          #.startswith проверяет начинается ли строка с указанной подстроки\\символов\n",
    "print(h.endswith('lo'))            #.endswith проверяет заканчивается ли строка на указанной подстроке\\символе"
   ]
  },
  {
   "cell_type": "code",
   "execution_count": 51,
   "id": "3a18d016",
   "metadata": {
    "scrolled": true
   },
   "outputs": [
    {
     "name": "stdout",
     "output_type": "stream",
     "text": [
      "<class 'list'>\n",
      "['he', '', 'o']\n",
      "['h', 'llo']\n"
     ]
    }
   ],
   "source": [
    "split=h.split('l')                 #функция .split разбивает строку на части, исключая указанный символ\n",
    "print(type(split))\n",
    "print(split)\n",
    "split=h.split('e')\n",
    "print(split)"
   ]
  },
  {
   "cell_type": "code",
   "execution_count": 52,
   "id": "d0d09b16",
   "metadata": {},
   "outputs": [
    {
     "name": "stdout",
     "output_type": "stream",
     "text": [
      "['12', '10', '8', '10']\n"
     ]
    }
   ],
   "source": [
    "data = '12;10;8;10'\n",
    "separated_data = data.split(';')\n",
    "print(separated_data) "
   ]
  },
  {
   "cell_type": "code",
   "execution_count": 58,
   "id": "79b2151a",
   "metadata": {},
   "outputs": [
    {
     "name": "stdout",
     "output_type": "stream",
     "text": [
      "<class 'tuple'>\n",
      "('I could eat ', 'bananas', ' all day')\n",
      "('Python ', 'is ', 'fun')\n",
      "('Python is fun', '', '')\n",
      "('Python ', 'is', \" fun, isn't it\")\n"
     ]
    }
   ],
   "source": [
    "txt = \"I could eat bananas all day\"  \n",
    "\n",
    "x = txt.partition(\"bananas\")      #.partition разделяет строку на части, не вырезая ничего из нее\n",
    "\n",
    "print(type(x))\n",
    "print(x)\n",
    "\n",
    "python = 'Python is fun'       \n",
    "print(python.partition('is '))    #('Python ', 'is ', 'fun')\n",
    "print(python.partition('not '))   #('Python is fun', '', '')\n",
    "\n",
    "python=\"Python is fun, isn't it\" \n",
    "print(python.partition(\"is\"))     #('Python ', 'is', \" fun, isn't it\")"
   ]
  },
  {
   "cell_type": "code",
   "execution_count": null,
   "id": "2f4b78f7",
   "metadata": {},
   "outputs": [],
   "source": []
  }
 ],
 "metadata": {
  "kernelspec": {
   "display_name": "Python 3 (ipykernel)",
   "language": "python",
   "name": "python3"
  },
  "language_info": {
   "codemirror_mode": {
    "name": "ipython",
    "version": 3
   },
   "file_extension": ".py",
   "mimetype": "text/x-python",
   "name": "python",
   "nbconvert_exporter": "python",
   "pygments_lexer": "ipython3",
   "version": "3.9.12"
  }
 },
 "nbformat": 4,
 "nbformat_minor": 5
}
