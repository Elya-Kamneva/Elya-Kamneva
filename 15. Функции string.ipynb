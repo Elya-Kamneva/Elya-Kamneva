{
 "cells": [
  {
   "cell_type": "code",
   "execution_count": 17,
   "id": "d21c83f6-8845-4f68-825b-2c6fd211a5cc",
   "metadata": {},
   "outputs": [],
   "source": [
    "a='hello, my name is Elina'     #создаем переменную со строкой"
   ]
  },
  {
   "cell_type": "code",
   "execution_count": 18,
   "id": "2ce26b6b-55a2-4a4c-90e9-ba5382e83fed",
   "metadata": {},
   "outputs": [
    {
     "data": {
      "text/plain": [
       "23"
      ]
     },
     "execution_count": 18,
     "metadata": {},
     "output_type": "execute_result"
    }
   ],
   "source": [
    "len(a)                           #len - количество символов в строке\n",
    "b=len(a)                         #все функции возвращают новую строчку, поэтому это дело можно обернуть в переменную.\n",
    "b"
   ]
  },
  {
   "cell_type": "code",
   "execution_count": 19,
   "id": "7b022adc-67ef-458a-8234-4eee967d8248",
   "metadata": {},
   "outputs": [
    {
     "data": {
      "text/plain": [
       "'a'"
      ]
     },
     "execution_count": 19,
     "metadata": {},
     "output_type": "execute_result"
    }
   ],
   "source": [
    "a[len(a)-1]                      #обратиться к последнему символу в строке\n",
    "c=a[len(a)-1]                    #все функции возвращают новую строчку, поэтому это дело можно обернуть в переменную.\n",
    "c"
   ]
  },
  {
   "cell_type": "code",
   "execution_count": 20,
   "id": "6acc6fda-c108-4684-bba9-5ef28c6a3f4a",
   "metadata": {},
   "outputs": [
    {
     "data": {
      "text/plain": [
       "True"
      ]
     },
     "execution_count": 20,
     "metadata": {},
     "output_type": "execute_result"
    }
   ],
   "source": [
    "a[len(a)-1]==a[-1]               #Можно использовать вместо индекса [-1]"
   ]
  },
  {
   "cell_type": "code",
   "execution_count": 21,
   "id": "7fb73a35-76a8-4ddf-ac4b-f6e4ffc2a23e",
   "metadata": {},
   "outputs": [
    {
     "data": {
      "text/plain": [
       "3"
      ]
     },
     "execution_count": 21,
     "metadata": {},
     "output_type": "execute_result"
    }
   ],
   "source": [
    "a.count('l')                     #сколько раз встречается символ в строке"
   ]
  },
  {
   "cell_type": "code",
   "execution_count": 22,
   "id": "a87d305c-8c09-4ef4-b874-f14b726d7b52",
   "metadata": {},
   "outputs": [
    {
     "data": {
      "text/plain": [
       "'Hello, my name is elina'"
      ]
     },
     "execution_count": 22,
     "metadata": {},
     "output_type": "execute_result"
    }
   ],
   "source": [
    "a.capitalize()                   #Меняет регистр в строке, первый символ большой, а все остальные маленький регистр\n",
    "d=a.capitalize()                 #все функции возвращают новую строчку, поэтому это дело можно обернуть в переменную.\n",
    "d"
   ]
  },
  {
   "cell_type": "code",
   "execution_count": 23,
   "id": "a9ebc5e8-7583-440c-b095-7ce68325168b",
   "metadata": {},
   "outputs": [
    {
     "name": "stdout",
     "output_type": "stream",
     "text": [
      "HELLO, MY NAME IS ELINA\n"
     ]
    }
   ],
   "source": [
    "a.upper()                        #меняет регистр в строке, делает все буквы большими\n",
    "f=a.upper()                      #все функции возвращают новую строчку, поэтому это дело можно обернуть в переменную.\n",
    "print(f)"
   ]
  },
  {
   "cell_type": "code",
   "execution_count": 24,
   "id": "3719c648-5bc8-4e91-b08f-b7346d9b3d23",
   "metadata": {},
   "outputs": [
    {
     "data": {
      "text/plain": [
       "'hello, my name is elina'"
      ]
     },
     "execution_count": 24,
     "metadata": {},
     "output_type": "execute_result"
    }
   ],
   "source": [
    "a.lower()                        #меняет регистр в строчке, все буквы делает маленькими\n",
    "g=a.lower()                      #все функции возвращают новую строчку, поэтому это дело можно обернуть в переменную.\n",
    "g"
   ]
  },
  {
   "cell_type": "code",
   "execution_count": 25,
   "id": "ec25d712-b2fd-4da6-9269-fb265a342128",
   "metadata": {},
   "outputs": [
    {
     "name": "stdout",
     "output_type": "stream",
     "text": [
      "True\n",
      "True\n",
      "False\n",
      "False\n"
     ]
    }
   ],
   "source": [
    "print(f.isupper())               #проверят все ли символы верхнего регистра в строке\n",
    "print(g.islower())               #проверяет все ли символы в строке нижнего регистра\n",
    "print(a.isupper())               #выводит результат проверки на верхний регистр в основной строке\n",
    "print(a.islower())               #выводит резкльтат проверки на нижний регистр в основной строке"
   ]
  },
  {
   "cell_type": "code",
   "execution_count": 34,
   "id": "033be1ae-1058-40a1-8d95-1680520a1de8",
   "metadata": {},
   "outputs": [
    {
     "name": "stdout",
     "output_type": "stream",
     "text": [
      "2\n",
      "19\n",
      "-1\n",
      "7\n",
      "12\n",
      "7\n"
     ]
    }
   ],
   "source": [
    "print(a.find('l'))               #.find помогает найти индекс символа в строке. Если символов несколько, покажет первый найденный\n",
    "print(a.find('l',5)) \n",
    "print(a.find('l',5,10))          #можно указать диапазон поисков. 5 здесь это от какого символа начать поиск, 10 - чем закончить\n",
    "print(a.find('m', 7,15))\n",
    "print(a.find('m', 8,15))         #ответ -1 означает что не нашли символ\n",
    "print(a.find('my'))              #можно так же найти индекс подстроки, с которого начинается подстрока"
   ]
  },
  {
   "cell_type": "code",
   "execution_count": 27,
   "id": "be10c443-7034-424c-b423-e17b8f6444c8",
   "metadata": {},
   "outputs": [
    {
     "name": "stdout",
     "output_type": "stream",
     "text": [
      "True\n",
      "False\n",
      "False\n",
      "True\n"
     ]
    }
   ],
   "source": [
    "print('123abc'.isalnum())         #.isalnum проверяет состоит ли строка только из цифр и букв\n",
    "print('123abc!@'.isalnum())       #если есть символ вернет False\n",
    "print('123abc'.isalpha())         #проверяет, только ли буквы в строке\n",
    "print('abc'.isalpha())"
   ]
  },
  {
   "cell_type": "code",
   "execution_count": 28,
   "id": "71b85460-4e9a-4b89-86a1-706be03a3ca0",
   "metadata": {},
   "outputs": [
    {
     "name": "stdout",
     "output_type": "stream",
     "text": [
      "True\n",
      "False\n",
      "True\n",
      "True\n",
      "True\n"
     ]
    }
   ],
   "source": [
    "print('   '.isspace())             #проверяет пустая ли строчка. Вернет True если есть пробелы\n",
    "print(''.isspace())                #если строка совсем не содержит символов вернет False\n",
    "\n",
    "empty_string=''                    #когда нужно проверить на полностью пустую строку тогда сравниваем с пустой строкой\n",
    "print(empty_string == '')\n",
    "\n",
    "empty_string='   '\n",
    "print(empty_string.strip(' ')=='') #.strip удаляет cимвол, который мы укажем\n",
    "print(empty_string.strip()=='')"
   ]
  },
  {
   "cell_type": "code",
   "execution_count": 29,
   "id": "99aa78f6-ac1d-4915-995b-d1dbe5b10d92",
   "metadata": {},
   "outputs": [
    {
     "name": "stdout",
     "output_type": "stream",
     "text": [
      "empty\n"
     ]
    }
   ],
   "source": [
    "empty_string = ' '                 #определеяет пустая строка или нет, инструкция if - else будет рассмотренна позже\n",
    "if not empty_string:\n",
    "    print('not empty')\n",
    "else:\n",
    "    print('empty')"
   ]
  },
  {
   "cell_type": "code",
   "execution_count": 30,
   "id": "2dbdc27d-e3b9-4021-a545-6854ce99bfea",
   "metadata": {},
   "outputs": [
    {
     "name": "stdout",
     "output_type": "stream",
     "text": [
      "True\n",
      "True\n"
     ]
    }
   ],
   "source": [
    "h='hello'\n",
    "print(h.startswith('he'))          #.startswith проверяет начинается ли строка с указанной подстроки\\символов\n",
    "print(h.endswith('lo'))            #.endswith проверяет заканчивается ли строка на указанной подстроке\\символе"
   ]
  },
  {
   "cell_type": "code",
   "execution_count": 31,
   "id": "36e66ffa-b399-43e5-b3ce-28dd83ef9cd2",
   "metadata": {},
   "outputs": [
    {
     "name": "stdout",
     "output_type": "stream",
     "text": [
      "<class 'list'>\n",
      "['he', '', 'o']\n",
      "['h', 'llo']\n"
     ]
    }
   ],
   "source": [
    "split=h.split('l')                 #функция .split разбивает строку на части, исключая указанный символ\n",
    "print(type(split))\n",
    "print(split)\n",
    "split=h.split('e')\n",
    "print(split)"
   ]
  },
  {
   "cell_type": "code",
   "execution_count": 32,
   "id": "b3b2593e-6fb6-4f78-8d61-8833c071452f",
   "metadata": {},
   "outputs": [
    {
     "name": "stdout",
     "output_type": "stream",
     "text": [
      "['12', '10', '8', '10']\n"
     ]
    }
   ],
   "source": [
    "data = '12;10;8;10'\n",
    "separated_data = data.split(';')\n",
    "print(separated_data) "
   ]
  },
  {
   "cell_type": "code",
   "execution_count": 33,
   "id": "85ce4c1f-f9b1-48e6-b78c-bc5775927a78",
   "metadata": {},
   "outputs": [
    {
     "name": "stdout",
     "output_type": "stream",
     "text": [
      "<class 'tuple'>\n",
      "('I could eat ', 'bananas', ' all day')\n",
      "('Python ', 'is ', 'fun')\n",
      "('Python is fun', '', '')\n",
      "('Python ', 'is', \" fun, isn't it\")\n"
     ]
    }
   ],
   "source": [
    "txt = \"I could eat bananas all day\"  \n",
    "\n",
    "x = txt.partition(\"bananas\")      #.partition разделяет строку на части, не вырезая ничего из нее\n",
    "\n",
    "print(type(x))\n",
    "print(x)\n",
    "\n",
    "python = 'Python is fun'       \n",
    "print(python.partition('is '))    #('Python ', 'is ', 'fun')\n",
    "print(python.partition('not '))   #('Python is fun', '', '')\n",
    "\n",
    "python=\"Python is fun, isn't it\" \n",
    "print(python.partition(\"is\"))     #('Python ', 'is', \" fun, isn't it\")"
   ]
  }
 ],
 "metadata": {
  "kernelspec": {
   "display_name": "Python 3 (ipykernel)",
   "language": "python",
   "name": "python3"
  },
  "language_info": {
   "codemirror_mode": {
    "name": "ipython",
    "version": 3
   },
   "file_extension": ".py",
   "mimetype": "text/x-python",
   "name": "python",
   "nbconvert_exporter": "python",
   "pygments_lexer": "ipython3",
   "version": "3.11.7"
  }
 },
 "nbformat": 4,
 "nbformat_minor": 5
}
