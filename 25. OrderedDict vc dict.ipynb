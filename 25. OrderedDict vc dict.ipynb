{
 "cells": [
  {
   "cell_type": "code",
   "execution_count": 3,
   "id": "f40af780",
   "metadata": {},
   "outputs": [],
   "source": [
    "d1 = {}                      #создаем Dict\n",
    "d1['a'] ='A'\n",
    "d1['b'] = 'B'\n",
    "d1['c'] = 'C'\n",
    "\n",
    "d2 = {}\n",
    "d2['b'] ='B'\n",
    "d2['a'] = 'A'\n",
    "d2['c'] = 'C'\n",
    "\n",
    "d3 = {}\n",
    "d3['a'] ='A'\n",
    "d3['b'] = 'B'\n",
    "d3['c'] = 'C'"
   ]
  },
  {
   "cell_type": "code",
   "execution_count": 5,
   "id": "667ab0fe",
   "metadata": {},
   "outputs": [
    {
     "name": "stdout",
     "output_type": "stream",
     "text": [
      "True\n",
      "True\n"
     ]
    }
   ],
   "source": [
    "print(d1==d2)              #Если сравнить dict он окажется равным вне зависимости от порядка элементов\n",
    "print(d1==d3)"
   ]
  },
  {
   "cell_type": "code",
   "execution_count": 6,
   "id": "ba3ecf1e",
   "metadata": {},
   "outputs": [
    {
     "name": "stdout",
     "output_type": "stream",
     "text": [
      "a A\n",
      "b B\n",
      "c C\n"
     ]
    }
   ],
   "source": [
    "for k,v in d1.items():     #цикл тоже обращает внимание на порядок элементов\n",
    "    print(k,v)"
   ]
  },
  {
   "cell_type": "code",
   "execution_count": 7,
   "id": "d7c5912a",
   "metadata": {},
   "outputs": [],
   "source": [
    " from collections import OrderedDict  #Импортируем библиотеку OrderedDict"
   ]
  },
  {
   "cell_type": "code",
   "execution_count": 8,
   "id": "e4993bc8",
   "metadata": {},
   "outputs": [],
   "source": [
    "d1 = OrderedDict()         #Создаем OrderedDict\n",
    "d1['a'] ='A'\n",
    "d1['b'] = 'B'\n",
    "d1['c'] = 'C'\n",
    "\n",
    "d2 = OrderedDict()\n",
    "d2['b'] ='B'\n",
    "d2['a'] = 'A'\n",
    "d2['c'] = 'C'\n",
    "\n",
    "d3 = OrderedDict()\n",
    "d3['a'] ='A'\n",
    "d3['b'] = 'B'\n",
    "d3['c'] = 'C'"
   ]
  },
  {
   "cell_type": "code",
   "execution_count": 9,
   "id": "6689b5a3",
   "metadata": {},
   "outputs": [
    {
     "name": "stdout",
     "output_type": "stream",
     "text": [
      "False\n",
      "True\n"
     ]
    }
   ],
   "source": [
    "print(d1==d2)          #Сравниваем OrderedDict и получаем зависимость от порядка элементов\n",
    "print(d1==d3)"
   ]
  },
  {
   "cell_type": "code",
   "execution_count": 11,
   "id": "072cbba8",
   "metadata": {},
   "outputs": [
    {
     "name": "stdout",
     "output_type": "stream",
     "text": [
      "a A\n",
      "b B\n",
      "c C\n"
     ]
    }
   ],
   "source": [
    "for k,v in d1.items():\n",
    "    print(k,v)"
   ]
  },
  {
   "cell_type": "code",
   "execution_count": null,
   "id": "bcfb1ec6",
   "metadata": {},
   "outputs": [],
   "source": []
  }
 ],
 "metadata": {
  "kernelspec": {
   "display_name": "Python 3 (ipykernel)",
   "language": "python",
   "name": "python3"
  },
  "language_info": {
   "codemirror_mode": {
    "name": "ipython",
    "version": 3
   },
   "file_extension": ".py",
   "mimetype": "text/x-python",
   "name": "python",
   "nbconvert_exporter": "python",
   "pygments_lexer": "ipython3",
   "version": "3.9.12"
  }
 },
 "nbformat": 4,
 "nbformat_minor": 5
}
