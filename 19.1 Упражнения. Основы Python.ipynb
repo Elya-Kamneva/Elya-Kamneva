{
 "cells": [
  {
   "cell_type": "code",
   "execution_count": 6,
   "id": "3be56634",
   "metadata": {},
   "outputs": [
    {
     "name": "stdout",
     "output_type": "stream",
     "text": [
      "12\n"
     ]
    }
   ],
   "source": [
    "print(1+2+3+4+5+6-7+8-9-1) #мое решение(энергозатратно)\n",
    "print(2*6)                 #Решение Райхан(через умножение)\n",
    "print(10+2)                #Решение Лейлы(самые менее энергозатратный)"
   ]
  },
  {
   "cell_type": "code",
   "execution_count": 13,
   "id": "fe913fdc",
   "metadata": {},
   "outputs": [],
   "source": [
    "name = \"John Snow\"         #мое решение\n",
    "age = 29\n",
    "\n",
    "name = \"John Snow\"         #решение Лейлы\n",
    "age = 29\n",
    "\n",
    "name = \"John Snow\"         #решение Райхан\n",
    "age = 29"
   ]
  },
  {
   "cell_type": "code",
   "execution_count": 22,
   "id": "cdd61509",
   "metadata": {},
   "outputs": [
    {
     "name": "stdout",
     "output_type": "stream",
     "text": [
      "I'm a student and I'll become a \"strong\" programmer\n",
      "C:\\Users\\GoodStudent\n",
      "y\n",
      "nesgt\n"
     ]
    }
   ],
   "source": [
    "print(\"I'm a student and I'll become a \\\"strong\\\" programmer\") #I'm a student and I'll become a \"strong\" programmer\n",
    "print(r\"C:\\Users\\GoodStudent\") #C:\\Users\\GoodStudent\n",
    "\n",
    "x = \"My name is Agent Smith\"\n",
    "print(x[1]) #y\n",
    "print(x[3:16:3]) #nesgt"
   ]
  }
 ],
 "metadata": {
  "kernelspec": {
   "display_name": "Python 3 (ipykernel)",
   "language": "python",
   "name": "python3"
  },
  "language_info": {
   "codemirror_mode": {
    "name": "ipython",
    "version": 3
   },
   "file_extension": ".py",
   "mimetype": "text/x-python",
   "name": "python",
   "nbconvert_exporter": "python",
   "pygments_lexer": "ipython3",
   "version": "3.9.12"
  }
 },
 "nbformat": 4,
 "nbformat_minor": 5
}
