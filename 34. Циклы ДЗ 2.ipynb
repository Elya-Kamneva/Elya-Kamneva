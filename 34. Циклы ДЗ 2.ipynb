{
 "cells": [
  {
   "cell_type": "code",
   "execution_count": 1,
   "id": "0e135018",
   "metadata": {},
   "outputs": [],
   "source": [
    "#2. Запросить у пользователя ввод числа. Построить цикл \n",
    "#от 0 до введённого числа (включительно) и для чётных чисел \n",
    "#вывести то, что они чётные, а для нечётных, что они нечётные. \n",
    "#Пример вывода:\n",
    "#\n",
    "#0 is EVEN\n",
    "#1 is ODD\n",
    "#2 is EVEN\n",
    "#\n",
    "#и так далее..."
   ]
  },
  {
   "cell_type": "code",
   "execution_count": 8,
   "id": "40bbe7f8",
   "metadata": {},
   "outputs": [
    {
     "name": "stdout",
     "output_type": "stream",
     "text": [
      "Введите число: 10\n",
      "0 is EVEN\n",
      "1 is ODD\n",
      "2 is EVEN\n",
      "3 is ODD\n",
      "4 is EVEN\n",
      "5 is ODD\n",
      "6 is EVEN\n",
      "7 is ODD\n",
      "8 is EVEN\n",
      "9 is ODD\n",
      "10 is EVEN\n"
     ]
    }
   ],
   "source": [
    "val = int(input('Введите число: '))\n",
    "\n",
    "s = 0\n",
    "while s <= val:\n",
    "    if s%2==0:\n",
    "        print(f'{s} is EVEN')\n",
    "    else:\n",
    "        print(f'{s} is ODD')\n",
    "    s+=1"
   ]
  },
  {
   "cell_type": "code",
   "execution_count": 1,
   "id": "daa194f4",
   "metadata": {},
   "outputs": [
    {
     "name": "stdout",
     "output_type": "stream",
     "text": [
      "Введите число: 10\n",
      "0 is EVEN\n",
      "1 is ODD\n",
      "2 is EVEN\n",
      "3 is ODD\n",
      "4 is EVEN\n",
      "5 is ODD\n",
      "6 is EVEN\n",
      "7 is ODD\n",
      "8 is EVEN\n",
      "9 is ODD\n",
      "10 is EVEN\n"
     ]
    }
   ],
   "source": [
    "limit = int(input('Введите число: '))         #решение учителя\n",
    "\n",
    "for x in range(limit+1):\n",
    "    if x%2 == 0:\n",
    "        print(f'{x} is EVEN')\n",
    "    else:\n",
    "        print(f'{x} is ODD')"
   ]
  },
  {
   "cell_type": "code",
   "execution_count": null,
   "id": "88340f35",
   "metadata": {},
   "outputs": [],
   "source": []
  }
 ],
 "metadata": {
  "kernelspec": {
   "display_name": "Python 3 (ipykernel)",
   "language": "python",
   "name": "python3"
  },
  "language_info": {
   "codemirror_mode": {
    "name": "ipython",
    "version": 3
   },
   "file_extension": ".py",
   "mimetype": "text/x-python",
   "name": "python",
   "nbconvert_exporter": "python",
   "pygments_lexer": "ipython3",
   "version": "3.9.12"
  }
 },
 "nbformat": 4,
 "nbformat_minor": 5
}
