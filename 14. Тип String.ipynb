{
 "cells": [
  {
   "cell_type": "code",
   "execution_count": 1,
   "id": "e7e13635",
   "metadata": {},
   "outputs": [
    {
     "data": {
      "text/plain": [
       "'text'"
      ]
     },
     "execution_count": 1,
     "metadata": {},
     "output_type": "execute_result"
    }
   ],
   "source": [
    " 'text'                    \n",
    "#при вводе обычного текста не влияет на ввод тип кавычек"
   ]
  },
  {
   "cell_type": "code",
   "execution_count": 2,
   "id": "689434ad",
   "metadata": {},
   "outputs": [
    {
     "data": {
      "text/plain": [
       "'text'"
      ]
     },
     "execution_count": 2,
     "metadata": {},
     "output_type": "execute_result"
    }
   ],
   "source": [
    "\"text\""
   ]
  },
  {
   "cell_type": "code",
   "execution_count": 9,
   "id": "7a34786d",
   "metadata": {},
   "outputs": [
    {
     "data": {
      "text/plain": [
       "\"i'm Elina\""
      ]
     },
     "execution_count": 9,
     "metadata": {},
     "output_type": "execute_result"
    }
   ],
   "source": [
    "\"i'm Elina\"               \n",
    "#Если в тексте содержится кавычка для закрытия использовать противоположные"
   ]
  },
  {
   "cell_type": "code",
   "execution_count": 4,
   "id": "1c5c1fce",
   "metadata": {},
   "outputs": [
    {
     "data": {
      "text/plain": [
       "'White \"rabbit\"'"
      ]
     },
     "execution_count": 4,
     "metadata": {},
     "output_type": "execute_result"
    }
   ],
   "source": [
    "'White \"rabbit\"'"
   ]
  },
  {
   "cell_type": "code",
   "execution_count": 7,
   "id": "62987478",
   "metadata": {},
   "outputs": [
    {
     "data": {
      "text/plain": [
       "'I\\'m Elina and I\\'m white \"rabbit\"'"
      ]
     },
     "execution_count": 7,
     "metadata": {},
     "output_type": "execute_result"
    }
   ],
   "source": [
    "\"I'm Elina and I'm white \\\"rabbit\\\"\"\n",
    "#Если втексте используются и одинарные и двойные кавычки нужно \"экранировать\" их с помощью обратного слеша"
   ]
  },
  {
   "cell_type": "code",
   "execution_count": 8,
   "id": "23cc747f",
   "metadata": {},
   "outputs": [
    {
     "name": "stdout",
     "output_type": "stream",
     "text": [
      "I'm Elina and I'm white \"rabbit\"\n"
     ]
    }
   ],
   "source": [
    "print(\"I'm Elina and I'm white \\\"rabbit\\\"\") \n",
    "                                                 #Если надо красиво то берем в print"
   ]
  },
  {
   "cell_type": "code",
   "execution_count": 11,
   "id": "611490c6",
   "metadata": {},
   "outputs": [
    {
     "data": {
      "text/plain": [
       "'C:\\\\Users\\\\Asus'"
      ]
     },
     "execution_count": 11,
     "metadata": {},
     "output_type": "execute_result"
    }
   ],
   "source": [
    "'C:\\\\Users\\\\Asus' \n",
    "#Если надо в тексте указать обратный слеш, то также его экранируем с помощью обратного слеша."
   ]
  },
  {
   "cell_type": "code",
   "execution_count": 13,
   "id": "392dad6b",
   "metadata": {},
   "outputs": [
    {
     "name": "stdout",
     "output_type": "stream",
     "text": [
      "C:\\Users\\Asus\n"
     ]
    }
   ],
   "source": [
    "print ('C:\\\\Users\\\\Asus') \n",
    "                                                 #Если надо красиво берем в print"
   ]
  },
  {
   "cell_type": "code",
   "execution_count": 16,
   "id": "1605c0d7",
   "metadata": {},
   "outputs": [
    {
     "data": {
      "text/plain": [
       "'C:\\\\Users\\\\Asus'"
      ]
     },
     "execution_count": 16,
     "metadata": {},
     "output_type": "execute_result"
    }
   ],
   "source": [
    "r'C:\\Users\\Asus' \n",
    "#r экранирует все обратные слеши в тексте автоматически"
   ]
  },
  {
   "cell_type": "code",
   "execution_count": 17,
   "id": "cc69adea",
   "metadata": {},
   "outputs": [
    {
     "name": "stdout",
     "output_type": "stream",
     "text": [
      "C:\\Users\\Asus\n"
     ]
    }
   ],
   "source": [
    "print(r'C:\\Users\\Asus')\n",
    "                                                  #Если надо красиво берем в print"
   ]
  },
  {
   "cell_type": "code",
   "execution_count": 22,
   "id": "ba313ff2",
   "metadata": {},
   "outputs": [
    {
     "data": {
      "text/plain": [
       "'I\\'m Elina and \\nI\\'m white \"rabbit\"'"
      ]
     },
     "execution_count": 22,
     "metadata": {},
     "output_type": "execute_result"
    }
   ],
   "source": [
    "\"I'm Elina and \\nI'm white \\\"rabbit\\\"\"    \n",
    "#Когда текст надо перенести на новую строку используем \\n(для Linux) или \\r\\n (для Windows)"
   ]
  },
  {
   "cell_type": "code",
   "execution_count": 19,
   "id": "96eea122",
   "metadata": {},
   "outputs": [
    {
     "data": {
      "text/plain": [
       "'I\\'m Elina and \\r\\nI\\'m white \"rabbit\"'"
      ]
     },
     "execution_count": 19,
     "metadata": {},
     "output_type": "execute_result"
    }
   ],
   "source": [
    "\"I'm Elina and \\r\\nI'm white \\\"rabbit\\\"\"          #Windows"
   ]
  },
  {
   "cell_type": "code",
   "execution_count": 20,
   "id": "fabcdda5",
   "metadata": {},
   "outputs": [
    {
     "name": "stdout",
     "output_type": "stream",
     "text": [
      "I'm Elina and \n",
      "I'm white \"rabbit\"\n"
     ]
    }
   ],
   "source": [
    "print (\"I'm Elina and \\nI'm white \\\"rabbit\\\"\")     #Linux\n",
    "                                                   #Если надо красиво берем в print"
   ]
  },
  {
   "cell_type": "code",
   "execution_count": 21,
   "id": "5bdf838b",
   "metadata": {},
   "outputs": [
    {
     "name": "stdout",
     "output_type": "stream",
     "text": [
      "I'm Elina and \r\n",
      "I'm white \"rabbit\"\n"
     ]
    }
   ],
   "source": [
    "print (\"I'm Elina and \\r\\nI'm white \\\"rabbit\\\"\")   #Windows\n",
    "                                                   #Если надо красиво берем в print"
   ]
  },
  {
   "cell_type": "code",
   "execution_count": 24,
   "id": "aca75dc8",
   "metadata": {},
   "outputs": [
    {
     "name": "stdout",
     "output_type": "stream",
     "text": [
      "I'm Elina and \r\n",
      "I'm \twhite \"rabbit\"\n"
     ]
    }
   ],
   "source": [
    "print (\"I'm Elina and \\r\\nI'm \\twhite \\\"rabbit\\\"\") #\\t проставляет табуляцию (tab)\n",
    "                                                   #Если надо красиво берем в print"
   ]
  },
  {
   "cell_type": "code",
   "execution_count": 25,
   "id": "9acddd4a",
   "metadata": {},
   "outputs": [
    {
     "data": {
      "text/plain": [
       "'Hello world'"
      ]
     },
     "execution_count": 25,
     "metadata": {},
     "output_type": "execute_result"
    }
   ],
   "source": [
    "a = str('Hello world')                             #str тип данных для переменной содержащей строку (текст)\n",
    "a"
   ]
  },
  {
   "cell_type": "code",
   "execution_count": 26,
   "id": "789afaea",
   "metadata": {},
   "outputs": [],
   "source": [
    "b = str(\"Hello, my name is Elina\")"
   ]
  },
  {
   "cell_type": "code",
   "execution_count": 27,
   "id": "e849557a",
   "metadata": {},
   "outputs": [
    {
     "data": {
      "text/plain": [
       "'H'"
      ]
     },
     "execution_count": 27,
     "metadata": {},
     "output_type": "execute_result"
    }
   ],
   "source": [
    "b[0]                                               #индекс символа в переменной (отсчет с 0)    "
   ]
  },
  {
   "cell_type": "code",
   "execution_count": 28,
   "id": "150cab0d",
   "metadata": {},
   "outputs": [
    {
     "data": {
      "text/plain": [
       "','"
      ]
     },
     "execution_count": 28,
     "metadata": {},
     "output_type": "execute_result"
    }
   ],
   "source": [
    "b[5]"
   ]
  },
  {
   "cell_type": "code",
   "execution_count": 29,
   "id": "47b90bfa",
   "metadata": {},
   "outputs": [
    {
     "data": {
      "text/plain": [
       "'n'"
      ]
     },
     "execution_count": 29,
     "metadata": {},
     "output_type": "execute_result"
    }
   ],
   "source": [
    "b[-2]                                              #можно брать минусовое значение для отсчета с конца"
   ]
  },
  {
   "cell_type": "code",
   "execution_count": 31,
   "id": "8696ad21",
   "metadata": {},
   "outputs": [],
   "source": [
    "#b[0] = 'h'                                             \n",
    "#str не умеет изменять значения выдет ошибку 'str' object does not support item assignment"
   ]
  },
  {
   "cell_type": "code",
   "execution_count": 35,
   "id": "89f45fb3",
   "metadata": {},
   "outputs": [
    {
     "data": {
      "text/plain": [
       "'hello'"
      ]
     },
     "execution_count": 35,
     "metadata": {},
     "output_type": "execute_result"
    }
   ],
   "source": [
    "c='hello'                                          #можно писать без str и ()\n",
    "c"
   ]
  },
  {
   "cell_type": "code",
   "execution_count": 36,
   "id": "9d4da6d7",
   "metadata": {},
   "outputs": [
    {
     "data": {
      "text/plain": [
       "', my name is Elina'"
      ]
     },
     "execution_count": 36,
     "metadata": {},
     "output_type": "execute_result"
    }
   ],
   "source": [
    "b[5:]                 \n",
    "#можно отобразить последовательность начиная с опеределенного символа используя :, отображение включает указанный символ\n",
    "                                                   #это называется подстрока"
   ]
  },
  {
   "cell_type": "code",
   "execution_count": 37,
   "id": "f7488881",
   "metadata": {},
   "outputs": [
    {
     "data": {
      "text/plain": [
       "'Hell'"
      ]
     },
     "execution_count": 37,
     "metadata": {},
     "output_type": "execute_result"
    }
   ],
   "source": [
    "b[0:4]\n",
    "#можно указать границы последовательности, первый индекс включается в отображение, а второй не попадает в отображение"
   ]
  },
  {
   "cell_type": "code",
   "execution_count": 39,
   "id": "fb90dddb",
   "metadata": {},
   "outputs": [
    {
     "data": {
      "text/plain": [
       "'Hlo ynm sEia'"
      ]
     },
     "execution_count": 39,
     "metadata": {},
     "output_type": "execute_result"
    }
   ],
   "source": [
    "b[::2]\n",
    "#после еще : указывается шаг последовательности, здесь каждый второй символ"
   ]
  },
  {
   "cell_type": "code",
   "execution_count": 41,
   "id": "97e98bf4",
   "metadata": {},
   "outputs": [
    {
     "data": {
      "text/plain": [
       "'o ynm sEia'"
      ]
     },
     "execution_count": 41,
     "metadata": {},
     "output_type": "execute_result"
    }
   ],
   "source": [
    "b[4:30:2]\n",
    "#можно указывать границы последовательности и шаг отображения символов\n",
    "                                                    #срез со строки"
   ]
  },
  {
   "cell_type": "code",
   "execution_count": 44,
   "id": "bac0b912",
   "metadata": {},
   "outputs": [
    {
     "data": {
      "text/plain": [
       "'My name is Elina'"
      ]
     },
     "execution_count": 44,
     "metadata": {},
     "output_type": "execute_result"
    }
   ],
   "source": [
    "'My name is '+'Elina' \n",
    "#можно склеить строчки с помощью +, но сильно нагружает ПК"
   ]
  },
  {
   "cell_type": "code",
   "execution_count": 2,
   "id": "7574d96d",
   "metadata": {},
   "outputs": [
    {
     "name": "stdout",
     "output_type": "stream",
     "text": [
      "Hello world\n",
      "Hello world\n",
      "world Hello earth\n",
      "Hello world\n"
     ]
    }
   ],
   "source": [
    "w = 'Hello'\n",
    "s = \"world\"\n",
    "d = \"%s %s\" % (w,s)\n",
    "print(w+' '+s)\n",
    "print(\"%s %s\" % (w,s))\n",
    "print(\"{} {} {}\".format(s,w,'earth'))\n",
    "print(d)\n",
    "                                                   #форматирование строк экономнее (кроме+)"
   ]
  },
  {
   "cell_type": "code",
   "execution_count": 48,
   "id": "b78c374e",
   "metadata": {},
   "outputs": [
    {
     "ename": "TypeError",
     "evalue": "unsupported operand type(s) for +: 'int' and 'str'",
     "output_type": "error",
     "traceback": [
      "\u001b[1;31m---------------------------------------------------------------------------\u001b[0m",
      "\u001b[1;31mTypeError\u001b[0m                                 Traceback (most recent call last)",
      "Input \u001b[1;32mIn [48]\u001b[0m, in \u001b[0;36m<cell line: 1>\u001b[1;34m()\u001b[0m\n\u001b[1;32m----> 1\u001b[0m \u001b[38;5;241;43m2\u001b[39;49m\u001b[38;5;241;43m+\u001b[39;49m\u001b[38;5;124;43m'\u001b[39;49m\u001b[38;5;124;43m3\u001b[39;49m\u001b[38;5;124;43m'\u001b[39;49m\n",
      "\u001b[1;31mTypeError\u001b[0m: unsupported operand type(s) for +: 'int' and 'str'"
     ]
    }
   ],
   "source": [
    "2+'3'                                              #так нельзя делать - разные типы данных"
   ]
  },
  {
   "cell_type": "code",
   "execution_count": 4,
   "id": "64989723",
   "metadata": {},
   "outputs": [
    {
     "data": {
      "text/plain": [
       "'23'"
      ]
     },
     "execution_count": 4,
     "metadata": {},
     "output_type": "execute_result"
    }
   ],
   "source": [
    "'2'+'3'                                           #так можно делать - сложение строк"
   ]
  }
 ],
 "metadata": {
  "kernelspec": {
   "display_name": "Python 3 (ipykernel)",
   "language": "python",
   "name": "python3"
  },
  "language_info": {
   "codemirror_mode": {
    "name": "ipython",
    "version": 3
   },
   "file_extension": ".py",
   "mimetype": "text/x-python",
   "name": "python",
   "nbconvert_exporter": "python",
   "pygments_lexer": "ipython3",
   "version": "3.9.12"
  }
 },
 "nbformat": 4,
 "nbformat_minor": 5
}
