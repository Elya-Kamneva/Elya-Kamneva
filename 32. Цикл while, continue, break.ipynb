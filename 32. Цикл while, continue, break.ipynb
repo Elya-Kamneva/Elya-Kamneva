{
 "cells": [
  {
   "cell_type": "code",
   "execution_count": 1,
   "id": "003f913c",
   "metadata": {},
   "outputs": [
    {
     "name": "stdout",
     "output_type": "stream",
     "text": [
      " x equals0\n",
      " x equals1\n",
      " x equals2\n"
     ]
    }
   ],
   "source": [
    "x = 0\n",
    "while x<3:                  #до тех пор пока... True or False\n",
    "    print(f' x equals{x}')\n",
    "    x+=1"
   ]
  },
  {
   "cell_type": "code",
   "execution_count": 2,
   "id": "934ca068",
   "metadata": {},
   "outputs": [
    {
     "name": "stdout",
     "output_type": "stream",
     "text": [
      " x equals0\n",
      " x equals1\n",
      " x equals2\n",
      "Condition is not met\n"
     ]
    }
   ],
   "source": [
    "x = 0\n",
    "while x<3:\n",
    "    print(f' x equals{x}')\n",
    "    x+=1\n",
    "else:\n",
    "    print('Condition is not met')    "
   ]
  },
  {
   "cell_type": "code",
   "execution_count": 3,
   "id": "f69b694f",
   "metadata": {},
   "outputs": [],
   "source": [
    "#break - выйти из цикла преждевременно\n",
    "#continue - чтобы перейти к следующией итерации и не доходить до конца блока исполняемого в цикле\n",
    "#pass - как заполнитель чтобы ничего не делать"
   ]
  },
  {
   "cell_type": "code",
   "execution_count": 5,
   "id": "e57a482b",
   "metadata": {},
   "outputs": [
    {
     "data": {
      "text/plain": [
       "16"
      ]
     },
     "execution_count": 5,
     "metadata": {},
     "output_type": "execute_result"
    }
   ],
   "source": [
    "vals = [1,2,3,4,5,6,7,8,9]\n",
    "\n",
    "sum=0\n",
    "for v in vals:\n",
    "    if v%2==0:\n",
    "        continue\n",
    "    else:\n",
    "        sum+=v\n",
    "    if sum >10:\n",
    "        break\n",
    "sum"
   ]
  },
  {
   "cell_type": "code",
   "execution_count": 6,
   "id": "cfa5dfa7",
   "metadata": {},
   "outputs": [],
   "source": [
    "for v in vals:\n",
    "    pass"
   ]
  },
  {
   "cell_type": "code",
   "execution_count": null,
   "id": "bf830f1d",
   "metadata": {},
   "outputs": [],
   "source": []
  }
 ],
 "metadata": {
  "kernelspec": {
   "display_name": "Python 3 (ipykernel)",
   "language": "python",
   "name": "python3"
  },
  "language_info": {
   "codemirror_mode": {
    "name": "ipython",
    "version": 3
   },
   "file_extension": ".py",
   "mimetype": "text/x-python",
   "name": "python",
   "nbconvert_exporter": "python",
   "pygments_lexer": "ipython3",
   "version": "3.9.12"
  }
 },
 "nbformat": 4,
 "nbformat_minor": 5
}
