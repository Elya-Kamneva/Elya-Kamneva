{
 "cells": [
  {
   "cell_type": "code",
   "execution_count": 1,
   "id": "27accb33",
   "metadata": {},
   "outputs": [],
   "source": [
    "#Циклы. ДЗ 6. Определяем Flush\n",
    "#Идёт игра в семи-карточный техасский покер. На столе лежат пять карт и в руке две карты.\n",
    "#Необходимо определить есть ли комбинация, называемая флеш (Flush).\n",
    "#Комбинация флеш определяется наличием пяти карт одной масти (среди всех карт: и тех, что лежат на столе и тех, что в руке)\n",
    "#\n",
    "#В вашем файле для решения есть две переменные: table_cards и hand_cards.\n",
    "#\n",
    "#В обе переменные записаны списки карт, в первой - пять карт на столе, во второй - две карты в руке.\n",
    "#\n",
    "#Вот примеры списков, которые будут записаны в эти переменные для проверки вашего решения:\n",
    "#\n",
    "#[\"A_S\", \"J_H\", \"7_D\", \"8_D\", \"10_D\"], [\"J_D\", \"3_D\"]\n",
    "#[\"10_S\", \"7_S\", \"9_H\", \"4_S\", \"3_S\"], [\"K_S\", \"Q_S\"]\n",
    "#[\"3_S\", \"10_H\", \"10_D\", \"10_C\", \"10_S\"], [\"3_S\", \"4_D\"]\n",
    "#Как видите, каждая карта записывается в определённом формате.\n",
    "#Первым символом обозначается \"номинал\" карты.\n",
    "#Возможные значения: 2, 3, 4, 5, 6, 7, 8, 9, 10, J, Q, K, A\n",
    "#Второй символ - всегда подчёркивание.\n",
    "#Третий символ - масть. Возможные значения: S (пики), H (черви), D (буби), C (трефы)\n",
    "#\n",
    "#Если присутствует комбинация флеш - вывести на консоль \"Flush!\", в противном случае вывести \"No Flush!\""
   ]
  },
  {
   "cell_type": "code",
   "execution_count": 20,
   "id": "5da9461c",
   "metadata": {},
   "outputs": [
    {
     "name": "stdout",
     "output_type": "stream",
     "text": [
      "['S', 'S', 'H', 'S', 'S', 'S', 'S']\n",
      "Flush\n"
     ]
    }
   ],
   "source": [
    "#мое решение\n",
    "table_cards = [\"10_S\", \"7_S\", \"9_H\", \"4_S\", \"3_S\"]\n",
    "hand_cards = [\"K_S\", \"Q_S\"]\n",
    "\n",
    "all_cards = table_cards + hand_cards\n",
    "suits = [card[-1] for card in all_cards]\n",
    "\n",
    "for suit in suits:\n",
    "    if suits.count('S') >=5:\n",
    "        print('Flush')\n",
    "        break\n",
    "    if suits.count('H') >=5:\n",
    "        print('Flush')\n",
    "        break\n",
    "    if suits.count('D') >=5:\n",
    "        print('Flush')\n",
    "        break\n",
    "    if suits.count('C') >=5:\n",
    "        print('Flush!')\n",
    "        break\n",
    "    else:\n",
    "        print('No Flush!')\n",
    "        break"
   ]
  },
  {
   "cell_type": "code",
   "execution_count": 24,
   "id": "f61a4bf5",
   "metadata": {},
   "outputs": [
    {
     "name": "stdout",
     "output_type": "stream",
     "text": [
      "Flush!\n"
     ]
    }
   ],
   "source": [
    "#решение учителя1\n",
    "table_cards = [\"A_S\", \"J_H\", \"7_D\", \"8_D\", \"10_D\"]\n",
    "hand_cards = [\"J_D\", \"3_D\"]\n",
    "\n",
    "table_suites = [i[-1] for i in table_cards]\n",
    "hand_suites = [i[-1] for i in table_cards]\n",
    "suites_in_game = table_suites + hand_suites\n",
    "\n",
    "flush = False\n",
    "\n",
    "for suit in 'CHSD':\n",
    "    if suites_in_game.count(suit) >=5:\n",
    "        flush = True\n",
    "\n",
    "if flush:\n",
    "    print('Flush!')\n",
    "else:\n",
    "    print('No Flush!')"
   ]
  },
  {
   "cell_type": "code",
   "execution_count": 25,
   "id": "5a567312",
   "metadata": {},
   "outputs": [
    {
     "name": "stdout",
     "output_type": "stream",
     "text": [
      "Flush!\n"
     ]
    }
   ],
   "source": [
    "#решение учителя2  [list_comrehension]  \n",
    "table_cards = [\"A_S\", \"J_H\", \"7_D\", \"8_D\", \"10_D\"]\n",
    "hand_cards = [\"J_D\", \"3_D\"]\n",
    "\n",
    "suites = 'CHSD'\n",
    "flush = False\n",
    "\n",
    "table_suites = [i[-1] for i in table_cards]\n",
    "hand_suites = [i[-1] for i in table_cards]\n",
    "suites_in_game = table_suites +hand_suites\n",
    "\n",
    "flush = any([suites_in_game.count(suit) >=5 for suit in suites])\n",
    "\n",
    "if flush:\n",
    "    print('Flush!')\n",
    "else:\n",
    "    print('No Flush!')"
   ]
  },
  {
   "cell_type": "code",
   "execution_count": 27,
   "id": "9c938902",
   "metadata": {},
   "outputs": [
    {
     "name": "stdout",
     "output_type": "stream",
     "text": [
      "Flush!\n"
     ]
    }
   ],
   "source": [
    "#решение учителя3\n",
    "table_cards = [\"A_S\", \"J_H\", \"7_D\", \"8_D\", \"10_D\"]\n",
    "hand_cards = [\"J_D\", \"3_D\"]\n",
    "\n",
    "flush = any([sum([card[-1]==suit for card in table_cards + hand_cards])>=5 for suit in 'CHSD'])\n",
    "\n",
    "if flush:\n",
    "    print('Flush!')\n",
    "else:\n",
    "    print('No Flush!')"
   ]
  },
  {
   "cell_type": "code",
   "execution_count": null,
   "id": "da7bc755",
   "metadata": {},
   "outputs": [],
   "source": []
  }
 ],
 "metadata": {
  "kernelspec": {
   "display_name": "Python 3 (ipykernel)",
   "language": "python",
   "name": "python3"
  },
  "language_info": {
   "codemirror_mode": {
    "name": "ipython",
    "version": 3
   },
   "file_extension": ".py",
   "mimetype": "text/x-python",
   "name": "python",
   "nbconvert_exporter": "python",
   "pygments_lexer": "ipython3",
   "version": "3.9.12"
  }
 },
 "nbformat": 4,
 "nbformat_minor": 5
}
