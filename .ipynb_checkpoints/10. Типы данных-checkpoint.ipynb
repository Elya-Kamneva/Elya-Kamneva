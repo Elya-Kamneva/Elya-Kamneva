{
 "cells": [
  {
   "cell_type": "code",
   "execution_count": null,
   "id": "d792f809-d0f3-444e-b2e3-1a041b8c4e6a",
   "metadata": {},
   "outputs": [],
   "source": [
    "int #целые числа 1,2,3"
   ]
  },
  {
   "cell_type": "code",
   "execution_count": null,
   "id": "1c1de8fd-9128-4924-ba4b-021288610bb5",
   "metadata": {},
   "outputs": [],
   "source": [
    "float #числа с плавающей точкой 1.1, 2.4, 3.0"
   ]
  },
  {
   "cell_type": "code",
   "execution_count": null,
   "id": "415476b7-c299-4d2d-9466-2c31690c689a",
   "metadata": {},
   "outputs": [],
   "source": [
    "str #последовательность символов: \"Hello, 'hello'"
   ]
  },
  {
   "cell_type": "code",
   "execution_count": null,
   "id": "74785151-1ac4-4c7a-8fd0-64c9ea6444b4",
   "metadata": {},
   "outputs": [],
   "source": [
    "list #Списки, последовательность объектов [1.2. \"Hello\"] "
   ]
  },
  {
   "cell_type": "code",
   "execution_count": null,
   "id": "716a65e9-9d89-4e10-a2d3-2aeee47e5850",
   "metadata": {},
   "outputs": [],
   "source": [
    "dict #Списки пар \"ключ-значение\" {\"john\": \"1+-23-45\", \"bob\":\"01-32-65\"}"
   ]
  },
  {
   "cell_type": "code",
   "execution_count": null,
   "id": "6ddab50b-3792-4cb6-8722-2e3663305a26",
   "metadata": {},
   "outputs": [],
   "source": [
    "tuple #картежи, последовательность неизменяемых объектов (1, 2.0, \"hello\")"
   ]
  },
  {
   "cell_type": "code",
   "execution_count": null,
   "id": "1f749aa9-3f03-4d71-bb90-6fa8563f119e",
   "metadata": {},
   "outputs": [],
   "source": [
    "set #множества, последовательность уникальных объектов {\"a\", \"b\"}"
   ]
  },
  {
   "cell_type": "code",
   "execution_count": null,
   "id": "69f9e44c-39d4-4494-9898-29368ad4724f",
   "metadata": {},
   "outputs": [],
   "source": [
    "bool # булевые значения, логические значения \"True\", \"False\""
   ]
  }
 ],
 "metadata": {
  "kernelspec": {
   "display_name": "Python 3 (ipykernel)",
   "language": "python",
   "name": "python3"
  },
  "language_info": {
   "codemirror_mode": {
    "name": "ipython",
    "version": 3
   },
   "file_extension": ".py",
   "mimetype": "text/x-python",
   "name": "python",
   "nbconvert_exporter": "python",
   "pygments_lexer": "ipython3",
   "version": "3.11.7"
  }
 },
 "nbformat": 4,
 "nbformat_minor": 5
}
