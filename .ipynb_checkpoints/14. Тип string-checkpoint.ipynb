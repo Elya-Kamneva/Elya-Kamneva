{
 "cells": [
  {
   "cell_type": "code",
   "execution_count": 3,
   "id": "fc3be25c-8a05-41d4-b49a-2de1b356b899",
   "metadata": {},
   "outputs": [
    {
     "data": {
      "text/plain": [
       "'text'"
      ]
     },
     "execution_count": 3,
     "metadata": {},
     "output_type": "execute_result"
    }
   ],
   "source": [
    "'text'                                           #при вводе обычного текста не влияет на ввод тип кавычек"
   ]
  },
  {
   "cell_type": "code",
   "execution_count": 4,
   "id": "11eed4a3-c556-4612-828c-3a2027a33c28",
   "metadata": {},
   "outputs": [
    {
     "data": {
      "text/plain": [
       "'text'"
      ]
     },
     "execution_count": 4,
     "metadata": {},
     "output_type": "execute_result"
    }
   ],
   "source": [
    "\"text\""
   ]
  },
  {
   "cell_type": "code",
   "execution_count": 5,
   "id": "03bcd733-db74-4375-b566-37f5e199213c",
   "metadata": {},
   "outputs": [
    {
     "data": {
      "text/plain": [
       "\"i'm Elina\""
      ]
     },
     "execution_count": 5,
     "metadata": {},
     "output_type": "execute_result"
    }
   ],
   "source": [
    "\"i'm Elina\"                                       #Если в тексте содержится кавычка для закрытия использовать противоположные"
   ]
  },
  {
   "cell_type": "code",
   "execution_count": 6,
   "id": "b0f515de-522f-433d-bfa8-0fe15276a635",
   "metadata": {},
   "outputs": [
    {
     "data": {
      "text/plain": [
       "'White \"rabbit\"'"
      ]
     },
     "execution_count": 6,
     "metadata": {},
     "output_type": "execute_result"
    }
   ],
   "source": [
    "'White \"rabbit\"'"
   ]
  },
  {
   "cell_type": "code",
   "execution_count": 8,
   "id": "a2982bae-1a87-4a07-b3ef-331ce1d55279",
   "metadata": {},
   "outputs": [
    {
     "data": {
      "text/plain": [
       "'I\\'m Elina and I\\'m white \"rabbit\"'"
      ]
     },
     "execution_count": 8,
     "metadata": {},
     "output_type": "execute_result"
    }
   ],
   "source": [
    "\"I'm Elina and I'm white \\\"rabbit\\\"\"              #Если втексте используются и одинарные и двойные кавычки нужно \"экранировать\" их с помощью обратного слеша"
   ]
  },
  {
   "cell_type": "code",
   "execution_count": 9,
   "id": "69f52aa5-ee68-4cbe-b249-d500387442f5",
   "metadata": {},
   "outputs": [
    {
     "name": "stdout",
     "output_type": "stream",
     "text": [
      "I'm Elina and I'm white \"rabbit\"\n"
     ]
    }
   ],
   "source": [
    "print(\"I'm Elina and I'm white \\\"rabbit\\\"\")       #Если надо красиво то берем в print"
   ]
  },
  {
   "cell_type": "code",
   "execution_count": 10,
   "id": "978ffd7e-e868-45b2-bf74-eebdd3102625",
   "metadata": {},
   "outputs": [
    {
     "data": {
      "text/plain": [
       "'C:\\\\Users\\\\Asus'"
      ]
     },
     "execution_count": 10,
     "metadata": {},
     "output_type": "execute_result"
    }
   ],
   "source": [
    "'C:\\\\Users\\\\Asus'                                 #Если надо в тексте указать обратный слеш, то также его экранируем с помощью обратного слеша."
   ]
  },
  {
   "cell_type": "code",
   "execution_count": 11,
   "id": "013dbebe-669a-4e43-83f0-e06ab40b2478",
   "metadata": {},
   "outputs": [
    {
     "name": "stdout",
     "output_type": "stream",
     "text": [
      "C:\\Users\\Asus\n"
     ]
    }
   ],
   "source": [
    "print ('C:\\\\Users\\\\Asus')                         #Если надо красиво берем в print"
   ]
  },
  {
   "cell_type": "code",
   "execution_count": 12,
   "id": "57f48bbe-6934-4377-bd20-ddb007e83e6e",
   "metadata": {},
   "outputs": [
    {
     "data": {
      "text/plain": [
       "'C:\\\\Users\\\\Asus'"
      ]
     },
     "execution_count": 12,
     "metadata": {},
     "output_type": "execute_result"
    }
   ],
   "source": [
    "r'C:\\Users\\Asus'                                  #r экранирует все обратные слеши в тексте автоматически"
   ]
  },
  {
   "cell_type": "code",
   "execution_count": 13,
   "id": "6db44b17-0f56-4374-97c0-b797fa3483a0",
   "metadata": {},
   "outputs": [
    {
     "name": "stdout",
     "output_type": "stream",
     "text": [
      "C:\\Users\\Asus\n"
     ]
    }
   ],
   "source": [
    "print(r'C:\\Users\\Asus')                           #Если надо красиво берем в print"
   ]
  },
  {
   "cell_type": "code",
   "execution_count": 15,
   "id": "9aa629b9-423f-43ea-a2a8-babc36e247e3",
   "metadata": {},
   "outputs": [
    {
     "data": {
      "text/plain": [
       "'I\\'m Elina and \\r\\nI\\'m white \"rabbit\"'"
      ]
     },
     "execution_count": 15,
     "metadata": {},
     "output_type": "execute_result"
    }
   ],
   "source": [
    "\"I'm Elina and \\r\\nI'm white \\\"rabbit\\\"\"          #Windows \n",
    "                                                  #Когда текст надо перенести на новую строку используем \\n(для Linux) или \\r\\n (для Windows)"
   ]
  },
  {
   "cell_type": "code",
   "execution_count": 16,
   "id": "238c0174-cd88-4244-8686-ca4f68598249",
   "metadata": {},
   "outputs": [
    {
     "name": "stdout",
     "output_type": "stream",
     "text": [
      "I'm Elina and \n",
      "I'm white \"rabbit\"\n"
     ]
    }
   ],
   "source": [
    "print (\"I'm Elina and \\nI'm white \\\"rabbit\\\"\")     #Linux\n",
    "                                                   #Если надо красиво берем в print"
   ]
  },
  {
   "cell_type": "code",
   "execution_count": 17,
   "id": "eb33340f-634c-45da-b0ab-412f0285b58d",
   "metadata": {},
   "outputs": [
    {
     "name": "stdout",
     "output_type": "stream",
     "text": [
      "I'm Elina and \n",
      "I'm white \"rabbit\"\n"
     ]
    }
   ],
   "source": [
    "print (\"I'm Elina and \\r\\nI'm white \\\"rabbit\\\"\")   #Windows\n",
    "                                                   #Если надо красиво берем в print"
   ]
  },
  {
   "cell_type": "code",
   "execution_count": 18,
   "id": "6c65b123-a2e2-4c7f-90df-50c5dce7833a",
   "metadata": {},
   "outputs": [
    {
     "name": "stdout",
     "output_type": "stream",
     "text": [
      "I'm Elina and \n",
      "I'm \twhite \"rabbit\"\n"
     ]
    }
   ],
   "source": [
    "print (\"I'm Elina and \\r\\nI'm \\twhite \\\"rabbit\\\"\") #\\t проставляет табуляцию (tab)\n",
    "                                                   #Если надо красиво берем в print"
   ]
  },
  {
   "cell_type": "code",
   "execution_count": 19,
   "id": "79dc30b2-6d36-45a6-970f-4d3eee1aa262",
   "metadata": {},
   "outputs": [
    {
     "data": {
      "text/plain": [
       "'Hello world'"
      ]
     },
     "execution_count": 19,
     "metadata": {},
     "output_type": "execute_result"
    }
   ],
   "source": [
    "a = str('Hello world')                             #str тип данных для переменной содержащей строку (текст)\n",
    "a"
   ]
  },
  {
   "cell_type": "code",
   "execution_count": 21,
   "id": "802ac483-1c4b-4fc2-9a3c-d26b280bf700",
   "metadata": {},
   "outputs": [
    {
     "data": {
      "text/plain": [
       "'H'"
      ]
     },
     "execution_count": 21,
     "metadata": {},
     "output_type": "execute_result"
    }
   ],
   "source": [
    "b = str(\"Hello, my name is Elina\")\n",
    "b[0]                                               #индекс символа в переменной (отсчет с 0)"
   ]
  },
  {
   "cell_type": "code",
   "execution_count": 23,
   "id": "b27e70ec-028b-4492-8619-e38bf84134de",
   "metadata": {},
   "outputs": [
    {
     "data": {
      "text/plain": [
       "'n'"
      ]
     },
     "execution_count": 23,
     "metadata": {},
     "output_type": "execute_result"
    }
   ],
   "source": [
    "b[-2]                                              #можно брать минусовое значение для отсчета с конца"
   ]
  },
  {
   "cell_type": "code",
   "execution_count": 24,
   "id": "a5afff70-4e97-42f6-a1f7-80f43b5d2336",
   "metadata": {},
   "outputs": [],
   "source": [
    "#b[0] = 'h'                                        #str не умеет изменять значения выдет ошибку 'str' object does not support item assignment"
   ]
  },
  {
   "cell_type": "code",
   "execution_count": 25,
   "id": "14c370e2-f735-42e4-b3a9-9f028d50d6d5",
   "metadata": {},
   "outputs": [
    {
     "data": {
      "text/plain": [
       "'hello'"
      ]
     },
     "execution_count": 25,
     "metadata": {},
     "output_type": "execute_result"
    }
   ],
   "source": [
    "c='hello'                                          #можно писать без str и ()\n",
    "c"
   ]
  },
  {
   "cell_type": "code",
   "execution_count": 26,
   "id": "f7d87c60-b0b6-4b43-a6dd-158307d0621f",
   "metadata": {},
   "outputs": [
    {
     "data": {
      "text/plain": [
       "', my name is Elina'"
      ]
     },
     "execution_count": 26,
     "metadata": {},
     "output_type": "execute_result"
    }
   ],
   "source": [
    "b[5:]                                              #можно отобразить последовательность начиная с опеределенного символа используя :, отображение включает указанный символ\n",
    "                                                   #это называется подстрока"
   ]
  },
  {
   "cell_type": "code",
   "execution_count": 27,
   "id": "0d4947e8-6235-4d2a-af4e-8365cc0c0ce0",
   "metadata": {},
   "outputs": [
    {
     "data": {
      "text/plain": [
       "'Hell'"
      ]
     },
     "execution_count": 27,
     "metadata": {},
     "output_type": "execute_result"
    }
   ],
   "source": [
    "b[0:4]                                             #можно указать границы последовательности, первый индекс включается в отображение, а второй не попадает в отображение"
   ]
  },
  {
   "cell_type": "code",
   "execution_count": 28,
   "id": "3ce1a45a-7846-4c2a-932d-86ee6723b75f",
   "metadata": {},
   "outputs": [
    {
     "data": {
      "text/plain": [
       "'Hlo ynm sEia'"
      ]
     },
     "execution_count": 28,
     "metadata": {},
     "output_type": "execute_result"
    }
   ],
   "source": [
    "b[::2]                                             #после еще : указывается шаг последовательности, здесь каждый второй символ"
   ]
  },
  {
   "cell_type": "code",
   "execution_count": 29,
   "id": "cb41a68a-40b6-4f53-8185-2064d05ce76b",
   "metadata": {},
   "outputs": [
    {
     "data": {
      "text/plain": [
       "'o ynm sEia'"
      ]
     },
     "execution_count": 29,
     "metadata": {},
     "output_type": "execute_result"
    }
   ],
   "source": [
    "b[4:30:2]                                          #можно указывать границы последовательности и шаг отображения символов\n",
    "                                                   #срез со строки"
   ]
  },
  {
   "cell_type": "code",
   "execution_count": 30,
   "id": "9c382692-dd1b-4187-a845-17325ee0e3c6",
   "metadata": {},
   "outputs": [
    {
     "data": {
      "text/plain": [
       "'My name is Elina'"
      ]
     },
     "execution_count": 30,
     "metadata": {},
     "output_type": "execute_result"
    }
   ],
   "source": [
    "'My name is '+'Elina'                              #можно склеить строчки с помощью +, но сильно нагружает ПК"
   ]
  },
  {
   "cell_type": "code",
   "execution_count": 31,
   "id": "d7b45693-1469-4dfd-96a6-425a11d6fc47",
   "metadata": {},
   "outputs": [
    {
     "name": "stdout",
     "output_type": "stream",
     "text": [
      "Hello world\n",
      "Hello world\n",
      "world Hello earth\n",
      "Hello world\n"
     ]
    }
   ],
   "source": [
    "w = 'Hello'\n",
    "s = \"world\"\n",
    "d = \"%s %s\" % (w,s)\n",
    "print(w+' '+s)\n",
    "print(\"%s %s\" % (w,s))\n",
    "print(\"{} {} {}\".format(s,w,'earth'))\n",
    "print(d)                                          #форматирование строк экономнее (кроме+)"
   ]
  },
  {
   "cell_type": "code",
   "execution_count": null,
   "id": "807a79e6-7416-4144-a92e-bed2b3457f71",
   "metadata": {},
   "outputs": [],
   "source": [
    "# 2+'3'                                              #так нельзя делать - разные типы данных"
   ]
  },
  {
   "cell_type": "code",
   "execution_count": 32,
   "id": "da0597ff-7c9c-4c65-ae93-02eacc92f511",
   "metadata": {},
   "outputs": [
    {
     "data": {
      "text/plain": [
       "'23'"
      ]
     },
     "execution_count": 32,
     "metadata": {},
     "output_type": "execute_result"
    }
   ],
   "source": [
    "'2'+'3'                                            #так можно делать - сложение строк"
   ]
  },
  {
   "cell_type": "code",
   "execution_count": 33,
   "id": "e277485b-5d7d-4588-a218-3d6dfeee0464",
   "metadata": {},
   "outputs": [
    {
     "data": {
      "text/plain": [
       "'aaaaaaa'"
      ]
     },
     "execution_count": 33,
     "metadata": {},
     "output_type": "execute_result"
    }
   ],
   "source": [
    "'a'*7                                              #можно разможить строку с помощью *"
   ]
  }
 ],
 "metadata": {
  "kernelspec": {
   "display_name": "Python 3 (ipykernel)",
   "language": "python",
   "name": "python3"
  },
  "language_info": {
   "codemirror_mode": {
    "name": "ipython",
    "version": 3
   },
   "file_extension": ".py",
   "mimetype": "text/x-python",
   "name": "python",
   "nbconvert_exporter": "python",
   "pygments_lexer": "ipython3",
   "version": "3.11.7"
  }
 },
 "nbformat": 4,
 "nbformat_minor": 5
}
