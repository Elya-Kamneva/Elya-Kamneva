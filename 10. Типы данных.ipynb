{
 "cells": [
  {
   "cell_type": "code",
   "execution_count": null,
   "id": "40431405",
   "metadata": {},
   "outputs": [],
   "source": [
    "int #целые числа, 1, 2, 3 -1, -2 ,-3"
   ]
  },
  {
   "cell_type": "code",
   "execution_count": null,
   "id": "0386246f",
   "metadata": {},
   "outputs": [],
   "source": [
    "float #числа ч плавающей точкой, 1.1, 2.4, 3.0"
   ]
  },
  {
   "cell_type": "code",
   "execution_count": null,
   "id": "a42009f4",
   "metadata": {},
   "outputs": [],
   "source": [
    "str #последовательность символов: \"Hello, 'hello'"
   ]
  },
  {
   "cell_type": "code",
   "execution_count": 13,
   "id": "9fc2a31d",
   "metadata": {},
   "outputs": [],
   "source": [
    "list #Списки, последовательность объектов [1.2. \"Hello\"] "
   ]
  },
  {
   "cell_type": "code",
   "execution_count": 12,
   "id": "28bacbbc",
   "metadata": {},
   "outputs": [],
   "source": [
    "dict #Списки пар \"ключ-значение\" {\"join\": \"1+-23-45\", \"bob\":\"01-32-65\"}"
   ]
  },
  {
   "cell_type": "code",
   "execution_count": null,
   "id": "9ac7ebfb",
   "metadata": {},
   "outputs": [],
   "source": [
    "tuple #картежи, последовательность неизменяемых объектов (1, 2.0, \"hello\")"
   ]
  },
  {
   "cell_type": "code",
   "execution_count": null,
   "id": "d822315a",
   "metadata": {},
   "outputs": [],
   "source": [
    "set #множества, последовательность уникальных объектов {\"a\", \"b\"}"
   ]
  },
  {
   "cell_type": "code",
   "execution_count": 18,
   "id": "eb09c5f8",
   "metadata": {},
   "outputs": [],
   "source": [
    "bool # булевые значения, логические значения \"True\", \"False\""
   ]
  }
 ],
 "metadata": {
  "kernelspec": {
   "display_name": "Python 3 (ipykernel)",
   "language": "python",
   "name": "python3"
  },
  "language_info": {
   "codemirror_mode": {
    "name": "ipython",
    "version": 3
   },
   "file_extension": ".py",
   "mimetype": "text/x-python",
   "name": "python",
   "nbconvert_exporter": "python",
   "pygments_lexer": "ipython3",
   "version": "3.9.12"
  }
 },
 "nbformat": 4,
 "nbformat_minor": 5
}
