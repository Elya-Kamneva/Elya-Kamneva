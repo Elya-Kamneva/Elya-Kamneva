{
 "cells": [
  {
   "cell_type": "code",
   "execution_count": 1,
   "id": "7496ef11",
   "metadata": {},
   "outputs": [
    {
     "data": {
      "text/plain": [
       "True"
      ]
     },
     "execution_count": 1,
     "metadata": {},
     "output_type": "execute_result"
    }
   ],
   "source": [
    "2>1  #можно сравнивать числа. Ответ будет в формате bool"
   ]
  },
  {
   "cell_type": "code",
   "execution_count": 2,
   "id": "9463e291",
   "metadata": {},
   "outputs": [
    {
     "data": {
      "text/plain": [
       "bool"
      ]
     },
     "execution_count": 2,
     "metadata": {},
     "output_type": "execute_result"
    }
   ],
   "source": [
    "result =2>1\n",
    "type(result)"
   ]
  },
  {
   "cell_type": "code",
   "execution_count": 3,
   "id": "aaa4d9c4",
   "metadata": {},
   "outputs": [
    {
     "name": "stdout",
     "output_type": "stream",
     "text": [
      "False\n",
      "True\n",
      "True\n",
      "True\n"
     ]
    }
   ],
   "source": [
    "print(2>2)\n",
    "print(2>=2)        #\">=\" больше или равно\n",
    "print(3>=2)\n",
    "print(3<=4)        #\"<=\" меньше или равно"
   ]
  },
  {
   "cell_type": "code",
   "execution_count": 7,
   "id": "eb79a722",
   "metadata": {},
   "outputs": [
    {
     "data": {
      "text/plain": [
       "False"
      ]
     },
     "execution_count": 7,
     "metadata": {},
     "output_type": "execute_result"
    }
   ],
   "source": [
    "1==1 # \"==\" это оператор сравнения\n",
    "2==1\n",
    "#1=1 один \"=\" это присвоение"
   ]
  },
  {
   "cell_type": "code",
   "execution_count": 8,
   "id": "1d774685",
   "metadata": {},
   "outputs": [
    {
     "data": {
      "text/plain": [
       "False"
      ]
     },
     "execution_count": 8,
     "metadata": {},
     "output_type": "execute_result"
    }
   ],
   "source": [
    "1!=1 # != оператор означающий \"не равно\""
   ]
  },
  {
   "cell_type": "code",
   "execution_count": 10,
   "id": "9b104d5a",
   "metadata": {},
   "outputs": [
    {
     "name": "stdout",
     "output_type": "stream",
     "text": [
      "False\n",
      "False\n",
      "False\n",
      "True\n"
     ]
    }
   ],
   "source": [
    "print(\"string\" == \"string\") #можно сравнивать строки\n",
    "print(\"string\" == \"another string\")\n",
    "print(\"String\" == \"string\") #при сравнении строк учитывается регистр. Тут ответ False\n",
    "\n",
    "x=\"String\"\n",
    "y=\"string\"\n",
    "print(x.lower() == y.lower()) #чтобы игнорировать регистр используем функцию .lower"
   ]
  },
  {
   "cell_type": "code",
   "execution_count": 1,
   "id": "557f95ad",
   "metadata": {},
   "outputs": [
    {
     "name": "stdout",
     "output_type": "stream",
     "text": [
      "True\n",
      "True\n",
      "False\n"
     ]
    }
   ],
   "source": [
    "print(1<2<3)            #можно использовать сравнение в \"цепочках\"\n",
    "print(1<2 and 2<3)      #есть специальный оператор для сравнения цепочек\n",
    "print(1>2 and 2<3)      #Если обе части вычисляются в True, только тогда будет True."
   ]
  },
  {
   "cell_type": "code",
   "execution_count": 2,
   "id": "bd41b8e8",
   "metadata": {},
   "outputs": [
    {
     "name": "stdout",
     "output_type": "stream",
     "text": [
      "True\n",
      "False\n",
      "True\n"
     ]
    }
   ],
   "source": [
    "print(1>2 or 2<3)       #or = или, вычисляется одна из двух частей.\n",
    "print(1>2 or 2>3)       #если обе части False то ответ False\n",
    "print(1<2 or 2>3)       #если одна из частей True то ответ будет True"
   ]
  },
  {
   "cell_type": "code",
   "execution_count": null,
   "id": "42c5c2e0",
   "metadata": {},
   "outputs": [],
   "source": [
    " "
   ]
  }
 ],
 "metadata": {
  "kernelspec": {
   "display_name": "Python 3 (ipykernel)",
   "language": "python",
   "name": "python3"
  },
  "language_info": {
   "codemirror_mode": {
    "name": "ipython",
    "version": 3
   },
   "file_extension": ".py",
   "mimetype": "text/x-python",
   "name": "python",
   "nbconvert_exporter": "python",
   "pygments_lexer": "ipython3",
   "version": "3.9.12"
  }
 },
 "nbformat": 4,
 "nbformat_minor": 5
}
