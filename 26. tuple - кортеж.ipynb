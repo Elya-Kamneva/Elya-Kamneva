{
 "cells": [
  {
   "cell_type": "code",
   "execution_count": 1,
   "id": "a01b1efc",
   "metadata": {},
   "outputs": [],
   "source": [
    "strings = ('str1', 'str2', 'str3')\n",
    "#srteing[0] = 'str0'      нельзя изменить данные"
   ]
  },
  {
   "cell_type": "code",
   "execution_count": 3,
   "id": "51048438",
   "metadata": {},
   "outputs": [
    {
     "data": {
      "text/plain": [
       "tuple"
      ]
     },
     "execution_count": 3,
     "metadata": {},
     "output_type": "execute_result"
    }
   ],
   "source": [
    "person = ('John', 'Silver', 22) #синтаксис создания кортежей\n",
    "type(person)"
   ]
  },
  {
   "cell_type": "code",
   "execution_count": 4,
   "id": "483cee54",
   "metadata": {},
   "outputs": [
    {
     "data": {
      "text/plain": [
       "list"
      ]
     },
     "execution_count": 4,
     "metadata": {},
     "output_type": "execute_result"
    }
   ],
   "source": [
    "person_info = ['John', 'Silver', 22] #синтаксис создания листа\n",
    "type(person_info)"
   ]
  },
  {
   "cell_type": "code",
   "execution_count": 6,
   "id": "c7c70548",
   "metadata": {},
   "outputs": [
    {
     "data": {
      "text/plain": [
       "3"
      ]
     },
     "execution_count": 6,
     "metadata": {},
     "output_type": "execute_result"
    }
   ],
   "source": [
    "len(person)         #можно узнать длину кортежа"
   ]
  },
  {
   "cell_type": "code",
   "execution_count": 7,
   "id": "38e66017",
   "metadata": {},
   "outputs": [
    {
     "name": "stdout",
     "output_type": "stream",
     "text": [
      "John\n",
      "22\n"
     ]
    }
   ],
   "source": [
    "print(person[0])       #можно найти элемент по индексу\n",
    "print(person[-1])"
   ]
  },
  {
   "cell_type": "code",
   "execution_count": 9,
   "id": "c7f45583",
   "metadata": {},
   "outputs": [
    {
     "data": {
      "text/plain": [
       "1"
      ]
     },
     "execution_count": 9,
     "metadata": {},
     "output_type": "execute_result"
    }
   ],
   "source": [
    "person.count('John')   #посчитать сколько раз встречается элемент в списке"
   ]
  },
  {
   "cell_type": "code",
   "execution_count": 11,
   "id": "d8b07446",
   "metadata": {},
   "outputs": [
    {
     "data": {
      "text/plain": [
       "0"
      ]
     },
     "execution_count": 11,
     "metadata": {},
     "output_type": "execute_result"
    }
   ],
   "source": [
    "person.index('John')   #на каком месте списка находитс элемент"
   ]
  },
  {
   "cell_type": "code",
   "execution_count": null,
   "id": "bb86dd32",
   "metadata": {},
   "outputs": [],
   "source": []
  }
 ],
 "metadata": {
  "kernelspec": {
   "display_name": "Python 3 (ipykernel)",
   "language": "python",
   "name": "python3"
  },
  "language_info": {
   "codemirror_mode": {
    "name": "ipython",
    "version": 3
   },
   "file_extension": ".py",
   "mimetype": "text/x-python",
   "name": "python",
   "nbconvert_exporter": "python",
   "pygments_lexer": "ipython3",
   "version": "3.9.12"
  }
 },
 "nbformat": 4,
 "nbformat_minor": 5
}
